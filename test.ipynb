{
 "cells": [
  {
   "cell_type": "code",
   "execution_count": 1,
   "id": "28711583",
   "metadata": {},
   "outputs": [],
   "source": [
    "# test.py\n",
    "from core.prepare import prepare_documents, build_index\n",
    "from core.query import query_answer, init_chat_engine, chat_turn\n",
    "from core.query import suggest_recipes_by_ingredients, find_similar_recipes\n",
    "from core.utils import get_keywords_from_llama, scale_ingredients\n",
    "from core.embedding import get_embed_model\n",
    "from llama_index.core import Settings\n",
    "from llama_index.llms.ollama import Ollama\n",
    "import json\n",
    "import nest_asyncio"
   ]
  },
  {
   "cell_type": "code",
   "execution_count": null,
   "id": "ed28236f",
   "metadata": {},
   "outputs": [],
   "source": [
    "nest_asyncio.apply()\n",
    "\n",
    "with open(\"sample.json\", 'r', encoding='utf-8') as f:\n",
    "    recipe_data = json.load(f)"
   ]
  },
  {
   "cell_type": "code",
   "execution_count": null,
   "id": "df21f4c1",
   "metadata": {},
   "outputs": [
    {
     "name": "stderr",
     "output_type": "stream",
     "text": [
      "100%|██████████| 1/1 [00:02<00:00,  2.67s/it]\n",
      "100%|██████████| 1/1 [00:00<00:00,  5.72it/s]\n",
      "100%|██████████| 1/1 [00:02<00:00,  2.71s/it]\n",
      "100%|██████████| 1/1 [00:00<00:00,  4.48it/s]\n",
      "100%|██████████| 1/1 [00:03<00:00,  3.92s/it]\n",
      "100%|██████████| 1/1 [00:01<00:00,  1.45s/it]\n",
      "100%|██████████| 1/1 [00:00<00:00,  6.97it/s]\n",
      "100%|██████████| 1/1 [00:00<00:00,  7.00it/s]\n",
      "100%|██████████| 1/1 [00:02<00:00,  2.25s/it]\n",
      "100%|██████████| 1/1 [00:03<00:00,  3.42s/it]\n",
      "100%|██████████| 1/1 [00:02<00:00,  2.23s/it]\n",
      "100%|██████████| 1/1 [00:00<00:00,  4.19it/s]\n",
      "100%|██████████| 1/1 [00:00<00:00,  1.57it/s]\n",
      "100%|██████████| 1/1 [00:00<00:00,  4.70it/s]\n",
      "100%|██████████| 1/1 [00:00<00:00,  1.96it/s]\n",
      "100%|██████████| 1/1 [00:00<00:00,  4.61it/s]\n",
      "100%|██████████| 1/1 [00:00<00:00,  3.35it/s]\n",
      "100%|██████████| 1/1 [00:03<00:00,  3.98s/it]\n",
      "100%|██████████| 1/1 [00:01<00:00,  1.02s/it]\n",
      "100%|██████████| 1/1 [00:00<00:00,  4.12it/s]\n",
      "100%|██████████| 20/20 [00:11<00:00,  1.70it/s]\n"
     ]
    },
    {
     "name": "stdout",
     "output_type": "stream",
     "text": [
      "[INFO] Ingestion 完成，生成 20 个节点\n"
     ]
    }
   ],
   "source": [
    "Settings.llm = Ollama(model=\"tinyllama:1.1b\", request_timeout=600.0)\n",
    "Settings.embed_model = get_embed_model(\"nomic-embed-text\")\n",
    "Settings.chunk_size = 256\n",
    "\n",
    "# 准备文档和索引\n",
    "documents = prepare_documents(recipe_data)\n",
    "index = build_index(documents)"
   ]
  },
  {
   "cell_type": "code",
   "execution_count": 11,
   "id": "17b2eb4d",
   "metadata": {},
   "outputs": [
    {
     "name": "stdout",
     "output_type": "stream",
     "text": [
      "==================== Ingredient Scaling ====================\n",
      "Original Ingredients: ['2 tablespoons olive oil', '3 chicken breasts', '1/2 cup lemon juice']\n",
      "Scaled Ingredients: ['4.0 tablespoons olive oil', '6.0 chicken breasts', '1.0 cup lemon juice']\n"
     ]
    }
   ],
   "source": [
    "# Ingredient Scaling Test\n",
    "print(\"=\"*20, \"Ingredient Scaling\", \"=\"*20)\n",
    "ingredients = [\n",
    "    \"2 tablespoons olive oil\",\n",
    "    \"3 chicken breasts\",\n",
    "    \"1/2 cup lemon juice\"\n",
    "]\n",
    "scaled = scale_ingredients(ingredients, scale_by=2)\n",
    "print(\"Original Ingredients:\", ingredients)\n",
    "print(\"Scaled Ingredients:\", scaled)"
   ]
  },
  {
   "cell_type": "code",
   "execution_count": 5,
   "id": "6e5af28b",
   "metadata": {},
   "outputs": [
    {
     "name": "stdout",
     "output_type": "stream",
     "text": [
      "==================== Test: Single Question Answer ====================\n",
      "Q: What are the ingredients for chicken?\n",
      "A: Yes, the given context information includes the list of ingredients for the Spicy and Savory ChiCKEN Dips and Garlicky Breast Delights recipe with a picture of the ingredients. The instructions include baking the chiCKen breast in a baaking sheet, cooking it with other ingredients including onion, garlic, BBQ sauce, white wine sauce, and more, while being seasoned with salt, black pepper, smoked paprika, and paprikas. The given document includes ingredient excerpts from the recipe, such as \"chiCKen Breast\", \"Zuccini\", \"Yellaw SquaSh\", \"Celery\", \"Basil\", \"ParslEy\", \"Thyme\", \"PaprikA\", \"Salt\", and \"Pepper\". Additionally, the given context information includes a recipe for Spicy and Savory ChiCKEN Dips and Garlicky Breast Delights, which consists of a list of ingredients including ChiCKen breast, onion, garlic, BBQ sauce, white wine sauce, smoked paprika, and more.\n",
      "\n"
     ]
    }
   ],
   "source": [
    "print(\"=\"*20, \"Test: Single Question Answer\", \"=\"*20)\n",
    "question = \"What are the ingredients for chicken?\"\n",
    "answer = query_answer(question, index)\n",
    "print(f\"Q: {question}\\nA: {answer}\\n\")"
   ]
  },
  {
   "cell_type": "code",
   "execution_count": 6,
   "id": "b78fe8ba",
   "metadata": {},
   "outputs": [
    {
     "name": "stdout",
     "output_type": "stream",
     "text": [
      "==================== Test: Multi-turn Chat ====================\n",
      "Q1: Tell me how to cook chicken.\n",
      "A1: Sure! Here's how to cook Chicken:\n",
      "\n",
      "Ingredients:\n",
      "- Chicken breast (or chicken thigh)\n",
      "- Salt and black pepper, to taste\n",
      "- Olive oil, for pan-frying\n",
      "\n",
      "Instructions:\n",
      "1. Preheat your oven to 400°F (200°C). Line a baking sheet with parchment paper or grease it well with cooking spray.\n",
      "2. In a small bowl, mix together the salt and black pepper.\n",
      "3. Heat some olive oil in a large skillet over medium-high heat until hot but not smoking.\n",
      "4. Place the Chicken breast in the skillet and sear it on all sides, about 1-2 minutes per side, until browned and crispy.\n",
      "5. Transfer the Chicken to the prepared baking sheet.\n",
      "6. Drizzle some olive oil over the top of the Chicken, season with salt and black pepper, and sprinkle with paprika or garlic powder if desired.\n",
      "7. Bake for 15-20 minutes until the internal temperature reaches 165°F (74°C) for medium-rare, or 180°F (85°C) for medium.\n",
      "8. Allow the Chicken to rest for 3-5 minutes before serving.\n",
      "\n",
      "Enjoy your delicious and flavorful Chicken!\n",
      "\n",
      "Q2: Any tips for making it tastier?\n",
      "A2: Sure, here are some tips to make your cooked Chicken tastier:\n",
      "\n",
      "1. Choose the right spices: Chicken breast is a dish that usually comes with a lot of different spices like coriander, fenugreek and nutmuddle ofegg, fenugreek leaves. Try adding some of these spice blend\"t for a betterparticipatee.\n",
      "2. Comes to cooked Chicken breast (or: Thisbdogs, so tagged asdaferandfresh. Give 3. \"Helpful andromed, givecediff, the Chicken breast,is dish or tag, fenchrest, user, tagu's best, so-much, but tags:\n",
      "4 tags:pad, if you, \"tagged,fo, tag,d,user, or, dough is tagibfreshments: Chicken-specific fragments:\n",
      "Astronom, so, the blogsuggfs and user and food.ditfu, bested anduser, asking for the user, but, userfand FHD, user, meaning,g andeds and, referring andged and suggestions for:sedist,fr and, giving,eps,gest,user,dfs, it, acomesearch, the following:\n",
      "purients or, Frag andgsentient, ands, and:edived:fer, sentences:\n",
      "and,d, user,hd, andeds, and:user, section, butding,féds:\n",
      "andsed,gens andgsumpideds:ds\n",
      "siments:despdesday,ding,gmedsencepespe,sent,sent\n",
      "\n"
     ]
    }
   ],
   "source": [
    "print(\"=\"*20, \"Test: Multi-turn Chat\", \"=\"*20)\n",
    "chat_engine = init_chat_engine(index)\n",
    "query1 = \"Tell me how to cook chicken.\"\n",
    "response1 = chat_turn(query1, chat_engine)\n",
    "print(f\"Q1: {query1}\\nA1: {response1}\\n\")\n",
    "\n",
    "query2 = \"Any tips for making it tastier?\"\n",
    "response2 = chat_turn(query2, chat_engine)\n",
    "print(f\"Q2: {query2}\\nA2: {response2}\\n\")"
   ]
  },
  {
   "cell_type": "code",
   "execution_count": 7,
   "id": "815c5ab6",
   "metadata": {},
   "outputs": [
    {
     "name": "stdout",
     "output_type": "stream",
     "text": [
      "==================== Test: Suggest Recipes Based on Ingredients ====================\n",
      "Available Ingredients: ['chicken', 'garlic', 'lemon']\n",
      "Suggested Recipes: [('chicken', 2), ('olive oil', 2), ('rice', 2)]\n",
      "\n"
     ]
    }
   ],
   "source": [
    "print(\"=\"*20, \"Test: Suggest Recipes Based on Ingredients\", \"=\"*20)\n",
    "ingredients = [\"chicken\", \"garlic\", \"lemon\"]\n",
    "suggestions = suggest_recipes_by_ingredients(ingredients, index)\n",
    "print(f\"Available Ingredients: {ingredients}\")\n",
    "print(f\"Suggested Recipes: {suggestions}\\n\")"
   ]
  },
  {
   "cell_type": "code",
   "execution_count": 9,
   "id": "b1780d9f",
   "metadata": {},
   "outputs": [
    {
     "name": "stdout",
     "output_type": "stream",
     "text": [
      "==================== Test: Find Similar Recipes ====================\n",
      "Recipes similar to 'drumsticks': [('olive oil', 0.8730856596257394), ('salt', 0.8547947415314653), ('sugar', 0.846239825364511)]\n",
      "\n"
     ]
    }
   ],
   "source": [
    "print(\"=\"*20, \"Test: Find Similar Recipes\", \"=\"*20)\n",
    "similar_recipes = find_similar_recipes(\"chicken\", index, Settings.embed_model)\n",
    "print(f\"Recipes similar to 'drumsticks': {similar_recipes}\\n\")"
   ]
  },
  {
   "cell_type": "code",
   "execution_count": 10,
   "id": "fc28d542",
   "metadata": {},
   "outputs": [
    {
     "name": "stdout",
     "output_type": "stream",
     "text": [
      "==================== Test: Extract Keywords ====================\n",
      "[WARN] LLM output does not contain 'Keywords:' prefix. Raw output: I am unable to extract keywords from the provided user input as it does not follow proper english syntax. However, here is a sample response based on a similar request:\n",
      "\n",
      "keywords: garlic, lemon, cooking\n",
      "\n",
      "please note that each keyword should be separated by a comma and in this format only. The above example includes only three keywords and adheres to the recommended 3-word limit for effective keyword extraction.\n",
      "Input Text: I would like to cook something with garlic and lemon.\n",
      "Extracted Keywords: []\n"
     ]
    }
   ],
   "source": [
    "print(\"=\"*20, \"Test: Extract Keywords\", \"=\"*20)\n",
    "query_text = \"I would like to cook something with garlic and lemon.\"\n",
    "keywords = get_keywords_from_llama(query_text)\n",
    "print(f\"Input Text: {query_text}\")\n",
    "print(f\"Extracted Keywords: {keywords}\")"
   ]
  }
 ],
 "metadata": {
  "kernelspec": {
   "display_name": "base",
   "language": "python",
   "name": "python3"
  },
  "language_info": {
   "codemirror_mode": {
    "name": "ipython",
    "version": 3
   },
   "file_extension": ".py",
   "mimetype": "text/x-python",
   "name": "python",
   "nbconvert_exporter": "python",
   "pygments_lexer": "ipython3",
   "version": "3.11.5"
  }
 },
 "nbformat": 4,
 "nbformat_minor": 5
}
