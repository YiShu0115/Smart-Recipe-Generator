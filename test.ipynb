{
 "cells": [
  {
   "cell_type": "code",
   "execution_count": 2,
   "id": "28711583",
   "metadata": {},
   "outputs": [],
   "source": [
    "# test.py\n",
    "from core.prepare import prepare_documents, build_index\n",
    "from core.query import query_answer, init_chat_engine, chat_turn\n",
    "from core.query import suggest_recipes_by_query, find_similar_recipes\n",
    "from core.utils import get_keywords_from_llama, scale_ingredients\n",
    "from core.embedding import get_embed_model\n",
    "from llama_index.core import Settings\n",
    "from llama_index.llms.ollama import Ollama\n",
    "import json\n",
    "import nest_asyncio"
   ]
  },
  {
   "cell_type": "code",
   "execution_count": 3,
   "id": "ed28236f",
   "metadata": {},
   "outputs": [],
   "source": [
    "nest_asyncio.apply()\n",
    "\n",
    "with open(\"sample.json\", 'r', encoding='utf-8') as f:\n",
    "    recipe_data = json.load(f)"
   ]
  },
  {
   "cell_type": "code",
   "execution_count": 4,
   "id": "df21f4c1",
   "metadata": {},
   "outputs": [
    {
     "name": "stderr",
     "output_type": "stream",
     "text": [
      "100%|██████████| 1/1 [00:01<00:00,  1.27s/it]\n",
      "100%|██████████| 1/1 [00:00<00:00, 10.94it/s]\n",
      "100%|██████████| 1/1 [00:01<00:00,  1.04s/it]\n",
      "100%|██████████| 1/1 [00:00<00:00,  7.80it/s]\n",
      "100%|██████████| 1/1 [00:02<00:00,  2.03s/it]\n",
      "100%|██████████| 1/1 [00:01<00:00,  1.88s/it]\n",
      "100%|██████████| 1/1 [00:01<00:00,  1.95s/it]\n",
      "100%|██████████| 1/1 [00:01<00:00,  1.24s/it]\n",
      "100%|██████████| 1/1 [00:01<00:00,  1.58s/it]\n",
      "100%|██████████| 1/1 [00:00<00:00,  6.44it/s]\n",
      "100%|██████████| 1/1 [00:00<00:00,  4.71it/s]\n",
      "100%|██████████| 1/1 [00:00<00:00, 11.59it/s]\n",
      "100%|██████████| 1/1 [00:00<00:00,  9.12it/s]\n",
      "100%|██████████| 1/1 [00:00<00:00,  8.33it/s]\n",
      "100%|██████████| 1/1 [00:01<00:00,  1.46s/it]\n",
      "100%|██████████| 1/1 [00:01<00:00,  1.82s/it]\n",
      "100%|██████████| 1/1 [00:01<00:00,  1.80s/it]\n",
      "100%|██████████| 1/1 [00:00<00:00,  9.21it/s]\n",
      "100%|██████████| 1/1 [00:00<00:00,  1.75it/s]\n",
      "100%|██████████| 1/1 [00:00<00:00, 13.88it/s]\n",
      "100%|██████████| 20/20 [00:15<00:00,  1.28it/s]\n"
     ]
    },
    {
     "name": "stdout",
     "output_type": "stream",
     "text": [
      "[INFO] Ingestion 完成，生成 20 个节点\n"
     ]
    }
   ],
   "source": [
    "Settings.llm = Ollama(model=\"tinyllama:1.1b\", request_timeout=600.0)\n",
    "Settings.embed_model = get_embed_model(\"nomic-embed-text\")\n",
    "Settings.chunk_size = 256\n",
    "\n",
    "# 准备文档和索引\n",
    "documents = prepare_documents(recipe_data)\n",
    "index = build_index(documents)"
   ]
  },
  {
   "cell_type": "code",
   "execution_count": 5,
   "id": "17b2eb4d",
   "metadata": {},
   "outputs": [
    {
     "name": "stdout",
     "output_type": "stream",
     "text": [
      "==================== Ingredient Scaling ====================\n",
      "Original Ingredients: ['2 tablespoons olive oil', '3 chicken breasts', '1/2 cup lemon juice']\n",
      "Scaled Ingredients: ['4.0 tablespoons olive oil', '6.0 chicken breasts', '1.0 cup lemon juice']\n"
     ]
    }
   ],
   "source": [
    "# Ingredient Scaling Test\n",
    "print(\"=\"*20, \"Ingredient Scaling\", \"=\"*20)\n",
    "ingredients = [\n",
    "    \"2 tablespoons olive oil\",\n",
    "    \"3 chicken breasts\",\n",
    "    \"1/2 cup lemon juice\"\n",
    "]\n",
    "scaled = scale_ingredients(ingredients, scale_by=2)\n",
    "print(\"Original Ingredients:\", ingredients)\n",
    "print(\"Scaled Ingredients:\", scaled)"
   ]
  },
  {
   "cell_type": "code",
   "execution_count": 5,
   "id": "6e5af28b",
   "metadata": {},
   "outputs": [
    {
     "name": "stdout",
     "output_type": "stream",
     "text": [
      "==================== Test: Single Question Answer ====================\n",
      "Q: What are the ingredients for chicken?\n",
      "A: Yes, the given context information includes the list of ingredients for the Spicy and Savory ChiCKEN Dips and Garlicky Breast Delights recipe with a picture of the ingredients. The instructions include baking the chiCKen breast in a baaking sheet, cooking it with other ingredients including onion, garlic, BBQ sauce, white wine sauce, and more, while being seasoned with salt, black pepper, smoked paprika, and paprikas. The given document includes ingredient excerpts from the recipe, such as \"chiCKen Breast\", \"Zuccini\", \"Yellaw SquaSh\", \"Celery\", \"Basil\", \"ParslEy\", \"Thyme\", \"PaprikA\", \"Salt\", and \"Pepper\". Additionally, the given context information includes a recipe for Spicy and Savory ChiCKEN Dips and Garlicky Breast Delights, which consists of a list of ingredients including ChiCKen breast, onion, garlic, BBQ sauce, white wine sauce, smoked paprika, and more.\n",
      "\n"
     ]
    }
   ],
   "source": [
    "print(\"=\"*20, \"Test: Single Question Answer\", \"=\"*20)\n",
    "question = \"What are the ingredients for chicken?\"\n",
    "answer = query_answer(question, index)\n",
    "print(f\"Q: {question}\\nA: {answer}\\n\")"
   ]
  },
  {
   "cell_type": "code",
   "execution_count": 6,
   "id": "b78fe8ba",
   "metadata": {},
   "outputs": [
    {
     "name": "stdout",
     "output_type": "stream",
     "text": [
      "==================== Test: Multi-turn Chat ====================\n",
      "Q1: Tell me how to cook chicken.\n",
      "A1: Sure! Here's how to cook Chicken:\n",
      "\n",
      "Ingredients:\n",
      "- Chicken breast (or chicken thigh)\n",
      "- Salt and black pepper, to taste\n",
      "- Olive oil, for pan-frying\n",
      "\n",
      "Instructions:\n",
      "1. Preheat your oven to 400°F (200°C). Line a baking sheet with parchment paper or grease it well with cooking spray.\n",
      "2. In a small bowl, mix together the salt and black pepper.\n",
      "3. Heat some olive oil in a large skillet over medium-high heat until hot but not smoking.\n",
      "4. Place the Chicken breast in the skillet and sear it on all sides, about 1-2 minutes per side, until browned and crispy.\n",
      "5. Transfer the Chicken to the prepared baking sheet.\n",
      "6. Drizzle some olive oil over the top of the Chicken, season with salt and black pepper, and sprinkle with paprika or garlic powder if desired.\n",
      "7. Bake for 15-20 minutes until the internal temperature reaches 165°F (74°C) for medium-rare, or 180°F (85°C) for medium.\n",
      "8. Allow the Chicken to rest for 3-5 minutes before serving.\n",
      "\n",
      "Enjoy your delicious and flavorful Chicken!\n",
      "\n",
      "Q2: Any tips for making it tastier?\n",
      "A2: Sure, here are some tips to make your cooked Chicken tastier:\n",
      "\n",
      "1. Choose the right spices: Chicken breast is a dish that usually comes with a lot of different spices like coriander, fenugreek and nutmuddle ofegg, fenugreek leaves. Try adding some of these spice blend\"t for a betterparticipatee.\n",
      "2. Comes to cooked Chicken breast (or: Thisbdogs, so tagged asdaferandfresh. Give 3. \"Helpful andromed, givecediff, the Chicken breast,is dish or tag, fenchrest, user, tagu's best, so-much, but tags:\n",
      "4 tags:pad, if you, \"tagged,fo, tag,d,user, or, dough is tagibfreshments: Chicken-specific fragments:\n",
      "Astronom, so, the blogsuggfs and user and food.ditfu, bested anduser, asking for the user, but, userfand FHD, user, meaning,g andeds and, referring andged and suggestions for:sedist,fr and, giving,eps,gest,user,dfs, it, acomesearch, the following:\n",
      "purients or, Frag andgsentient, ands, and:edived:fer, sentences:\n",
      "and,d, user,hd, andeds, and:user, section, butding,féds:\n",
      "andsed,gens andgsumpideds:ds\n",
      "siments:despdesday,ding,gmedsencepespe,sent,sent\n",
      "\n"
     ]
    }
   ],
   "source": [
    "print(\"=\"*20, \"Test: Multi-turn Chat\", \"=\"*20)\n",
    "chat_engine = init_chat_engine(index)\n",
    "query1 = \"Tell me how to cook chicken.\"\n",
    "response1 = chat_turn(query1, chat_engine)\n",
    "print(f\"Q1: {query1}\\nA1: {response1}\\n\")\n",
    "\n",
    "query2 = \"Any tips for making it tastier?\"\n",
    "response2 = chat_turn(query2, chat_engine)\n",
    "print(f\"Q2: {query2}\\nA2: {response2}\\n\")"
   ]
  },
  {
   "cell_type": "code",
   "execution_count": 7,
   "id": "b1780d9f",
   "metadata": {},
   "outputs": [
    {
     "name": "stdout",
     "output_type": "stream",
     "text": [
      "==================== Test: Find Similar Recipes ====================\n",
      "Recipes similar to 'chicken':\n",
      "- Similar recipe: olive oil (similarity score: 0.87)\n",
      "- Similar recipe: salt (similarity score: 0.85)\n",
      "- Similar recipe: sugar (similarity score: 0.85)\n"
     ]
    }
   ],
   "source": [
    "print(\"=\"*20, \"Test: Find Similar Recipes\", \"=\"*20)\n",
    "similar_recipes = find_similar_recipes(\"chicken\", index, Settings.embed_model)\n",
    "print(f\"Recipes similar to 'chicken':\")\n",
    "print(similar_recipes)"
   ]
  },
  {
   "cell_type": "code",
   "execution_count": 8,
   "id": "fc28d542",
   "metadata": {},
   "outputs": [
    {
     "name": "stdout",
     "output_type": "stream",
     "text": [
      "==================== Test: Extract Keywords ====================\n",
      "[DEBUG] Raw response: Extracting keywords from: \"I would like to cook something with garlic, chicken and lemon\"\n",
      "\n",
      "Keyword1: garlic\n",
      "Keyword2: chicken\n",
      "Keyword3: lemon\n",
      "\n",
      "Note: The output will be in alphabetical order based on the first character of each keyword.\n",
      "Input Text: I would like to cook something with garlic, chicken and lemon.\n",
      "Extracted Keywords: ['chicken and lemon\"']\n"
     ]
    }
   ],
   "source": [
    "print(\"=\"*20, \"Test: Extract Keywords\", \"=\"*20)\n",
    "query_text = \"I would like to cook something with garlic, chicken and lemon.\"\n",
    "keywords = get_keywords_from_llama(query_text)\n",
    "print(f\"Input Text: {query_text}\")\n",
    "print(f\"Extracted Keywords: {keywords}\")"
   ]
  },
  {
   "cell_type": "code",
   "execution_count": 10,
   "id": "6f02eeaa",
   "metadata": {},
   "outputs": [
    {
     "name": "stdout",
     "output_type": "stream",
     "text": [
      "==================== Test: Suggest Recipes Based on Query ====================\n",
      "[DEBUG] Raw response: Keyword1: garlic, chicken, lemon\n",
      "Keyword2: garlic, chicken, lemon, chiyen\n",
      "Keyword3: garlic, chicken, lemon, chiyen\n",
      "[INFO] Extracted ingredients: ['1: garlic', 'chicken', 'lemon']\n",
      "Query: I want to cook something with garlic, chicken and lemon\n",
      "Suggestions:\n",
      "- Suggested recipe: sugar (matched ingredients: 2)\n",
      "- Suggested recipe: salt (matched ingredients: 2)\n",
      "- Suggested recipe: soy sauce (matched ingredients: 2)\n"
     ]
    }
   ],
   "source": [
    "query = \"I want to cook something with garlic, chicken and lemon\"\n",
    "print(\"=\" * 20, \"Test: Suggest Recipes Based on Query\", \"=\" * 20)\n",
    "suggestions = suggest_recipes_by_query(query, index)\n",
    "print(f\"Query: {query}\")\n",
    "print(\"Suggestions:\")\n",
    "print(suggestions)\n"
   ]
  }
 ],
 "metadata": {
  "kernelspec": {
   "display_name": "base",
   "language": "python",
   "name": "python3"
  },
  "language_info": {
   "codemirror_mode": {
    "name": "ipython",
    "version": 3
   },
   "file_extension": ".py",
   "mimetype": "text/x-python",
   "name": "python",
   "nbconvert_exporter": "python",
   "pygments_lexer": "ipython3",
   "version": "3.11.5"
  }
 },
 "nbformat": 4,
 "nbformat_minor": 5
}
