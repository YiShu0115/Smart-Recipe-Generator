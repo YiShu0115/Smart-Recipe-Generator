{
 "cells": [
  {
   "cell_type": "code",
   "execution_count": null,
   "id": "3382d3ba",
   "metadata": {},
   "outputs": [
    {
     "name": "stderr",
     "output_type": "stream",
     "text": [
      "100%|██████████| 1/1 [00:03<00:00,  3.49s/it]\n",
      "100%|██████████| 1/1 [00:03<00:00,  3.98s/it]\n",
      "100%|██████████| 1/1 [00:01<00:00,  1.28s/it]\n",
      "100%|██████████| 1/1 [00:03<00:00,  3.01s/it]\n",
      "100%|██████████| 1/1 [00:01<00:00,  1.57s/it]\n",
      "100%|██████████| 1/1 [00:00<00:00,  5.40it/s]\n",
      "100%|██████████| 1/1 [00:00<00:00,  6.03it/s]\n",
      "100%|██████████| 1/1 [00:00<00:00,  6.10it/s]\n",
      "100%|██████████| 1/1 [00:00<00:00,  5.94it/s]\n",
      "100%|██████████| 1/1 [00:00<00:00,  8.50it/s]\n",
      "100%|██████████| 1/1 [00:00<00:00,  4.45it/s]\n",
      "100%|██████████| 1/1 [00:00<00:00,  4.39it/s]\n",
      "100%|██████████| 1/1 [00:00<00:00,  6.79it/s]\n",
      "100%|██████████| 1/1 [00:02<00:00,  2.16s/it]\n",
      "100%|██████████| 1/1 [00:03<00:00,  3.44s/it]\n",
      "100%|██████████| 1/1 [00:00<00:00,  9.17it/s]\n",
      "100%|██████████| 1/1 [00:00<00:00,  4.82it/s]\n",
      "100%|██████████| 1/1 [00:00<00:00,  7.51it/s]\n",
      "100%|██████████| 1/1 [00:00<00:00,  6.79it/s]\n",
      "100%|██████████| 1/1 [00:00<00:00,  4.53it/s]\n",
      "100%|██████████| 20/20 [00:12<00:00,  1.58it/s]\n"
     ]
    },
    {
     "name": "stdout",
     "output_type": "stream",
     "text": [
      "[INFO] Ingestion 完成，生成 20 个节点\n"
     ]
    }
   ],
   "source": [
    "from core.prepare import prepare_documents, build_index\n",
    "from core.embedding import get_embed_model\n",
    "from core.utils import get_keywords_from_llama\n",
    "from core.query import init_chat_engine\n",
    "from core.smart_chat import smart_chat_turn\n",
    "from llama_index.core import Settings\n",
    "from llama_index.llms.ollama import Ollama\n",
    "import json, nest_asyncio\n",
    "\n",
    "nest_asyncio.apply()\n",
    "\n",
    "with open(\"sample.json\", \"r\", encoding=\"utf-8\") as f:\n",
    "    recipe_data = json.load(f)\n",
    "\n",
    "Settings.llm = Ollama(model=\"tinyllama:1.1b\", request_timeout=600.0)\n",
    "Settings.embed_model = get_embed_model(\"nomic-embed-text\")\n",
    "Settings.chunk_size = 256\n",
    "\n",
    "documents = prepare_documents(recipe_data)\n",
    "index = build_index(documents)"
   ]
  },
  {
   "cell_type": "code",
   "execution_count": 2,
   "id": "9c99ad3e",
   "metadata": {},
   "outputs": [
    {
     "name": "stdout",
     "output_type": "stream",
     "text": [
      "==================== Smart Chat ====================\n",
      "\n",
      "User: Can you recommend something with lemon and garlic?\n",
      "[INFO] Detected label: recommend\n",
      "[DEBUG] Raw response: Extracting 3 keywords from this input: \"Can you recommend something with lemon and garlic?\" would yield the following output:\n",
      "\n",
      "Keywords: lemon, garlic\n",
      "\n",
      "Note that the returned keywords are not in any specific order and can be used for further processing.\n",
      "Bot: Based on your input, here are some suggested recipes:\n",
      "Sorry, I couldn't find any recipes matching your ingredients.\n",
      "\n",
      "User: What dishes are similar to chicken curry?\n",
      "[INFO] Detected label: recommend\n",
      "[DEBUG] Raw response: [\n",
      "    \"chiken\",\n",
      "    \"curry\"\n",
      "]\n",
      "[WARN] No keywords found.\n",
      "Bot: Based on your input, here are some suggested recipes:\n",
      "Sorry, I couldn't find any recipes matching your ingredients.\n",
      "\n",
      "User: Can I make this for 10 people?\n",
      "[INFO] Detected label: recommend\n",
      "[DEBUG] Raw response: Keywords: food-for-10people\n",
      "Bot: Based on your input, here are some suggested recipes:\n",
      "Sorry, I couldn't find any recipes matching your ingredients.\n",
      "\n",
      "User: How do I cook the drumsticks?\n",
      "[INFO] Detected label: recommend\n",
      "[DEBUG] Raw response: [{\"text\":\"How do I cook the drumsTicks?\",\"pos\":0}]\n",
      "[WARN] No keywords found.\n",
      "Bot: Based on your input, here are some suggested recipes:\n",
      "Sorry, I couldn't find any recipes matching your ingredients.\n"
     ]
    }
   ],
   "source": [
    "# 模拟几轮问答\n",
    "chat_engine = init_chat_engine(index)\n",
    "\n",
    "print(\"=\" * 20, \"Smart Chat\", \"=\" * 20)\n",
    "queries = [\n",
    "    \"Can you recommend something with lemon and garlic?\",\n",
    "    \"What dishes are similar to chicken curry?\",\n",
    "    \"Can I make this for 10 people?\",\n",
    "    \"How do I cook the drumsticks?\"\n",
    "]\n",
    "\n",
    "for q in queries:\n",
    "    print(f\"\\nUser: {q}\")\n",
    "    response = smart_chat_turn(q, chat_engine, index, embed_model=Settings.embed_model)\n",
    "    print(f\"Bot: {response}\")"
   ]
  }
 ],
 "metadata": {
  "kernelspec": {
   "display_name": "base",
   "language": "python",
   "name": "python3"
  },
  "language_info": {
   "codemirror_mode": {
    "name": "ipython",
    "version": 3
   },
   "file_extension": ".py",
   "mimetype": "text/x-python",
   "name": "python",
   "nbconvert_exporter": "python",
   "pygments_lexer": "ipython3",
   "version": "3.11.5"
  }
 },
 "nbformat": 4,
 "nbformat_minor": 5
}
