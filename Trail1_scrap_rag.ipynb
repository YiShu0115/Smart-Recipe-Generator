{
 "cells": [
  {
   "cell_type": "markdown",
   "id": "599c9315",
   "metadata": {},
   "source": [
    "# Importing all libraries"
   ]
  },
  {
   "cell_type": "code",
   "execution_count": 1,
   "id": "97d4bc41-15c2-4293-8df1-d6d348db1a59",
   "metadata": {
    "tags": []
   },
   "outputs": [
    {
     "name": "stdout",
     "output_type": "stream",
     "text": [
      "1.23.5\n"
     ]
    }
   ],
   "source": [
    "import numpy\n",
    "print(numpy.__version__)"
   ]
  },
  {
   "cell_type": "code",
   "execution_count": 2,
   "id": "10d22586-eff1-42ad-b966-eb8dbb7aeea1",
   "metadata": {
    "tags": []
   },
   "outputs": [
    {
     "name": "stderr",
     "output_type": "stream",
     "text": [
      "[nltk_data] Downloading package punkt to\n",
      "[nltk_data]     /userhome/cs2/u3643736/nltk_data...\n",
      "[nltk_data]   Package punkt is already up-to-date!\n",
      "[nltk_data] Downloading package averaged_perceptron_tagger to\n",
      "[nltk_data]     /userhome/cs2/u3643736/nltk_data...\n",
      "[nltk_data]   Package averaged_perceptron_tagger is already up-to-\n",
      "[nltk_data]       date!\n"
     ]
    },
    {
     "data": {
      "text/plain": [
       "True"
      ]
     },
     "execution_count": 2,
     "metadata": {},
     "output_type": "execute_result"
    }
   ],
   "source": [
    "import nltk\n",
    "nltk.download('punkt')\n",
    "nltk.download('averaged_perceptron_tagger')"
   ]
  },
  {
   "cell_type": "code",
   "execution_count": 3,
   "id": "6dcdb9a2",
   "metadata": {
    "tags": []
   },
   "outputs": [
    {
     "name": "stderr",
     "output_type": "stream",
     "text": [
      "/userhome/cs2/u3643736/anaconda3/envs/nlp/lib/python3.9/site-packages/tqdm/auto.py:21: TqdmWarning: IProgress not found. Please update jupyter and ipywidgets. See https://ipywidgets.readthedocs.io/en/stable/user_install.html\n",
      "  from .autonotebook import tqdm as notebook_tqdm\n"
     ]
    }
   ],
   "source": [
    "import json\n",
    "# import nltk\n",
    "import re\n",
    "import pandas as pd\n",
    "from collections import Counter\n",
    "import requests\n",
    "from bs4 import BeautifulSoup\n",
    "import spacy\n",
    "from nltk import pos_tag\n",
    "from nltk import RegexpParser\n",
    "from fractions import Fraction\n",
    "from transformers import pipeline\n",
    "import tkinter as tk\n",
    "import customtkinter\n",
    "from functools import partial \n",
    "import pyttsx3\n",
    "import tkinter as tk\n",
    "import customtkinter\n",
    "import speech_recognition as sr"
   ]
  },
  {
   "cell_type": "markdown",
   "id": "2533e16f",
   "metadata": {},
   "source": [
    "# Fetching data of recipe\n",
    "\n",
    "### The scarpping was done from foodnetwork website - https://www.foodnetwork.com/"
   ]
  },
  {
   "cell_type": "code",
   "execution_count": 4,
   "id": "e52abd0b",
   "metadata": {
    "tags": []
   },
   "outputs": [],
   "source": [
    "recipe = {}\n",
    "global_dish = ''"
   ]
  },
  {
   "cell_type": "code",
   "execution_count": 5,
   "id": "fd15616a",
   "metadata": {
    "tags": []
   },
   "outputs": [],
   "source": [
    "def get_recipie_details(dish):\n",
    "    global global_dish \n",
    "    global_dish = dish\n",
    "    ingredient_list = []\n",
    "    step_list = []\n",
    "    level = '-'\n",
    "    total_time = '-'\n",
    "    prep_time = '-'\n",
    "    cook_time = '-'\n",
    "    servings = '-'\n",
    "\n",
    "    dish_to_search = ''\n",
    "    split_text = dish.split(' ')\n",
    "    for i in split_text:\n",
    "        dish_to_search+=i\n",
    "        dish_to_search+='-'\n",
    "    print(dish_to_search)\n",
    "    #searching dish on the foodnetwork website \n",
    "    URL = f\"https://www.foodnetwork.com/search/{dish_to_search}\"\n",
    "    # r = requests.get(URL)\n",
    "    headers = {\n",
    "        'User-Agent': 'Mozilla/5.0 (Windows NT 10.0; Win64; x64) AppleWebKit/537.36 (KHTML, like Gecko) Chrome/91.0.4472.124 Safari/537.36'\n",
    "    }\n",
    "    response = requests.get(URL, headers=headers)\n",
    "    soup = BeautifulSoup(response.text, 'html.parser')\n",
    "\n",
    "    #Extracting all recipe label URL for the dish\n",
    "    recipe_result_list = soup.find_all('div',{'class':'m-MediaBlock__m-TextWrap'})\n",
    "    \n",
    "    recipe_links = []\n",
    "    for i in recipe_result_list:\n",
    "        if i.find('span',{'class':'m-Info__a-SubHeadline'}) != None:\n",
    "            is_result_recipe = True if i.find('span',{'class':'m-Info__a-SubHeadline'}).text.strip() == 'Recipe' else False\n",
    "            if is_result_recipe:\n",
    "                recipe_link_tag = i.find('h3',{'class':'m-MediaBlock__a-Headline'})\n",
    "                recipe_links.append('https:' + recipe_link_tag.find('a')['href'])            \n",
    "\n",
    "    recipe_link_url = recipe_links[0]\n",
    "    print(recipe_link_url)\n",
    "\n",
    "    URL = recipe_link_url\n",
    "    # r = requests.get(URL)\n",
    "    headers = {\n",
    "        'User-Agent': 'Mozilla/5.0 (Windows NT 10.0; Win64; x64) AppleWebKit/537.36 (KHTML, like Gecko) Chrome/91.0.4472.124 Safari/537.36'\n",
    "    }\n",
    "    response = requests.get(URL, headers=headers)\n",
    "    soup = BeautifulSoup(response.text, 'html.parser')\n",
    "\n",
    "    time_serving_details = soup.find_all('span',{'class':'o-RecipeInfo__a-Description'})\n",
    "    if time_serving_details != []:\n",
    "        #inactive time case\n",
    "        if(len(time_serving_details)/2 >= 6):\n",
    "            print(time_serving_details[0]['class'])\n",
    "            level = time_serving_details[0].text.strip()\n",
    "            total_time = time_serving_details[1].text.strip()\n",
    "            prep_time = time_serving_details[2].text.strip() + '+' + time_serving_details[3].text.strip()\n",
    "            cook_time = time_serving_details[4].text.strip()\n",
    "            servings = time_serving_details[5].text.strip()\n",
    "        #prep and cook time case\n",
    "        elif(len(time_serving_details)/2 >= 5):\n",
    "            level = time_serving_details[0].text.strip()\n",
    "            total_time = time_serving_details[1].text.strip()\n",
    "            prep_time = time_serving_details[2].text.strip()\n",
    "            cook_time = time_serving_details[3].text.strip()\n",
    "            servings = time_serving_details[4].text.strip()\n",
    "        else:\n",
    "            level = time_serving_details[0].text.strip()\n",
    "            total_time = time_serving_details[1].text.strip()\n",
    "            cook_time = time_serving_details[2].text.strip()\n",
    "            servings = time_serving_details[3].text.strip()\n",
    "\n",
    "    #Extracting Ingredients\n",
    "    ingredients = soup.find_all('span',{'class':'o-Ingredients__a-Ingredient--CheckboxLabel'})\n",
    "    ingredient = [ingredient.text.strip() for ingredient in ingredients]\n",
    "    ingredient_list.extend(ingredient)\n",
    "    if len(ingredient_list) != 0:\n",
    "        del ingredient_list[0]\n",
    "\n",
    "    #Extracting Steps\n",
    "    steps = soup.find_all('li',{'class':'o-Method__m-Step'})\n",
    "    step = [step.text.strip() for step in steps]\n",
    "    step_list.extend(step)\n",
    "\n",
    "\n",
    "    #Recipe Dictionary\n",
    "\n",
    "    recipe[dish] = {'ingredient':ingredient_list,'step':step_list,'level':level,'total_time':total_time,'prep_time':prep_time,'cook_time':cook_time,'servings':servings}\n",
    "\n",
    "    return recipe\n",
    "    "
   ]
  },
  {
   "cell_type": "code",
   "execution_count": 6,
   "id": "0d589ada-834c-4e03-954f-1602c8ea83a5",
   "metadata": {
    "tags": []
   },
   "outputs": [
    {
     "name": "stdout",
     "output_type": "stream",
     "text": [
      "drumsticks-\n",
      "https://www.foodnetwork.com/recipes/food-network-kitchen/crunchy-lemonade-drumsticks-recipe-1973148\n"
     ]
    }
   ],
   "source": [
    "recipe = get_recipie_details('drumsticks') #4 servings\n",
    "\n",
    "global_dish = 'drumsticks'\n",
    "\n",
    "# POS Tagging"
   ]
  },
  {
   "cell_type": "code",
   "execution_count": 7,
   "id": "e94db078-6483-4324-8f52-8efd961d0252",
   "metadata": {
    "tags": []
   },
   "outputs": [
    {
     "data": {
      "text/plain": [
       "{'drumsticks': {'ingredient': ['2 tablespoons grated lemon zest',\n",
       "   '1/2 cup fresh lemon juice',\n",
       "   '3 tablespoons packed light brown sugar',\n",
       "   '1/3 cup buttermilk',\n",
       "   '12 skin-on chicken drumsticks (3 1/2 to 4 1/4 pounds)',\n",
       "   'Kosher salt and freshly ground black pepper',\n",
       "   '2 cups panko (Japanese breadcrumbs)',\n",
       "   '1 tablespoon chopped fresh thyme',\n",
       "   'Pinch of cayenne pepper',\n",
       "   '1/4 cup mayonnaise',\n",
       "   'Olive-oil cooking spray'],\n",
       "  'step': ['Mix 1 tablespoon lemon zest and the lemon juice in a large bowl. Add 1 cup water and the sugar and whisk to dissolve, then whisk in the buttermilk. Pierce the drumsticks several times with a fork and season with salt and pepper. Toss in the marinade, cover and refrigerate 4 hours, or overnight.',\n",
       "   'Preheat the oven to 400 degrees F. Bring the chicken to room temperature. Put the panko, thyme, the remaining 1 tablespoon lemon zest, the cayenne, 1 teaspoon salt, and black pepper to taste in a large resealable plastic bag and shake to mix. Put the mayonnaise in a bowl. Set a rack on a baking sheet and spray with cooking spray.',\n",
       "   'Remove the drumsticks from the marinade, dip in the mayonnaise, then drop into the bag and shake to coat; transfer to the rack.',\n",
       "   'Mist the chicken with cooking spray. Bake until golden, about 35 minutes; flip and bake until browned and crisp, 35 to 40 more minutes. Cool completely, then pack in an airtight container.'],\n",
       "  'level': 'Easy',\n",
       "  'total_time': '1 hr 45 min',\n",
       "  'prep_time': '35 min',\n",
       "  'cook_time': '1 hr 10 min',\n",
       "  'servings': '6'}}"
      ]
     },
     "execution_count": 7,
     "metadata": {},
     "output_type": "execute_result"
    }
   ],
   "source": [
    "recipe "
   ]
  },
  {
   "cell_type": "code",
   "execution_count": 8,
   "id": "07fba96b",
   "metadata": {
    "tags": []
   },
   "outputs": [],
   "source": [
    "def pos_tagging_ingredient(recipe,global_dish):\n",
    "    pos_ingredient_dict = {}\n",
    "    for ingredient in recipe[global_dish]['ingredient']:\n",
    "        split_ingredient = ingredient.split()\n",
    "        if global_dish not in pos_ingredient_dict:\n",
    "            pos_ingredient_dict[global_dish] = []\n",
    "        pos_ingredient_dict[global_dish].append(pos_tag(split_ingredient))\n",
    "        \n",
    "    return pos_ingredient_dict"
   ]
  },
  {
   "cell_type": "code",
   "execution_count": 9,
   "id": "691ac107",
   "metadata": {
    "tags": []
   },
   "outputs": [
    {
     "data": {
      "text/plain": [
       "[('how', 'WRB'), ('much', 'JJ'), ('olive', 'JJ'), ('oil', 'NN')]"
      ]
     },
     "execution_count": 9,
     "metadata": {},
     "output_type": "execute_result"
    }
   ],
   "source": [
    "s = 'how much olive oil'\n",
    "tag=pos_tag(s.split(' '))\n",
    "tag"
   ]
  },
  {
   "cell_type": "markdown",
   "id": "e6d98f23",
   "metadata": {},
   "source": [
    "# Parsing the recipe"
   ]
  },
  {
   "cell_type": "code",
   "execution_count": 10,
   "id": "f44394d0",
   "metadata": {
    "tags": []
   },
   "outputs": [
    {
     "name": "stdout",
     "output_type": "stream",
     "text": [
      "['oil']\n"
     ]
    }
   ],
   "source": [
    "#regex for ingredientQueries: how much, amount, quantity, how many, count of \n",
    "ingredientQueries=['much','amount','quantity','many','count']\n",
    "search_nouns=[]\n",
    "for ta in tag:\n",
    "    if ta[1]=='NN':\n",
    "        search_nouns.append(ta[0])\n",
    "print(search_nouns)           "
   ]
  },
  {
   "cell_type": "code",
   "execution_count": 11,
   "id": "f9617e74",
   "metadata": {
    "tags": []
   },
   "outputs": [],
   "source": [
    "#with POS-Searching the noun from the query in ingredient\n",
    "se=0\n",
    "if search_nouns[se] in ingredientQueries:\n",
    "    while se<len(search_nouns):\n",
    "        for ing in ingredient:\n",
    "            if search_nouns[se] in ing.split():\n",
    "                print(ing)                \n",
    "        se+=1"
   ]
  },
  {
   "cell_type": "code",
   "execution_count": 12,
   "id": "f6cd28b5",
   "metadata": {
    "tags": []
   },
   "outputs": [],
   "source": [
    "ingredient = recipe[global_dish]['ingredient']"
   ]
  },
  {
   "cell_type": "code",
   "execution_count": 13,
   "id": "5a4ced2e",
   "metadata": {
    "tags": []
   },
   "outputs": [
    {
     "data": {
      "text/plain": [
       "['2 tablespoons grated lemon zest',\n",
       " '1/2 cup fresh lemon juice',\n",
       " '3 tablespoons packed light brown sugar',\n",
       " '1/3 cup buttermilk',\n",
       " '12 skin-on chicken drumsticks (3 1/2 to 4 1/4 pounds)',\n",
       " 'Kosher salt and freshly ground black pepper',\n",
       " '2 cups panko (Japanese breadcrumbs)',\n",
       " '1 tablespoon chopped fresh thyme',\n",
       " 'Pinch of cayenne pepper',\n",
       " '1/4 cup mayonnaise',\n",
       " 'Olive-oil cooking spray']"
      ]
     },
     "execution_count": 13,
     "metadata": {},
     "output_type": "execute_result"
    }
   ],
   "source": [
    "ingredient"
   ]
  },
  {
   "cell_type": "code",
   "execution_count": 14,
   "id": "76e1ebaf",
   "metadata": {
    "tags": []
   },
   "outputs": [],
   "source": [
    "se=0\n",
    "while se<len(s.split()):\n",
    "    for ing in ingredient:\n",
    "        if s.split()[se] in ing.split():\n",
    "            print(ing)                \n",
    "    se+=1"
   ]
  },
  {
   "cell_type": "code",
   "execution_count": 15,
   "id": "611b7f4d",
   "metadata": {
    "tags": []
   },
   "outputs": [],
   "source": [
    "def IngredientQuery(s):\n",
    "    dish = global_dish\n",
    "    pos_ingredient_dict = {}\n",
    "    for ingredient in recipe[dish]['ingredient']:\n",
    "        split_ingredient = ingredient.split()\n",
    "        if dish not in pos_ingredient_dict:\n",
    "            pos_ingredient_dict[dish] = []\n",
    "        pos_ingredient_dict[dish].append(pos_tag(split_ingredient)) \n",
    "        \n",
    "    ingredientQueries=['much','amount','quantity','many','count','step'] #Generic query words related to ingredient questions\n",
    "    \n",
    "    #let us extract all the nouns from the ingredient list and add them to the ingredientQueries list\n",
    "    ingredient=recipe[dish]['ingredient'] \n",
    "    for ingr in ingredient:\n",
    "        wordIng=ingr.split()\n",
    "        tagIng=pos_tag(wordIng)\n",
    "        for tagIn in tagIng:\n",
    "            if tagIn[1]=='NN' or tagIn[1]=='NNS' or tagIn[1]=='NNP': #filter on the basis of Noun \n",
    "                ingredientQueries.append(tagIn[0])\n",
    "                \n",
    "    #Now let us extract all the nouns from the asked question\n",
    "    search_nouns=[]\n",
    "    tag=pos_tag(s.split(' '))\n",
    "    for ta in tag:\n",
    "        if ta[1]=='NN':\n",
    "            search_nouns.append(ta[0])\n",
    "    \n",
    "    #IF the nouns from question matches the nouns from ingredientQueries list, return the ingredient with description\n",
    "    se=0\n",
    "    while se<len(search_nouns):\n",
    "        if search_nouns[se] in ingredientQueries:\n",
    "            for ing in ingredient:\n",
    "                if search_nouns[se] in ing.split():\n",
    "                    return(ing)                \n",
    "        se+=1\n"
   ]
  },
  {
   "cell_type": "code",
   "execution_count": 16,
   "id": "880b2360",
   "metadata": {
    "tags": []
   },
   "outputs": [
    {
     "name": "stderr",
     "output_type": "stream",
     "text": [
      "No model was supplied, defaulted to distilbert/distilbert-base-cased-distilled-squad and revision 564e9b5 (https://huggingface.co/distilbert/distilbert-base-cased-distilled-squad).\n",
      "Using a pipeline without specifying a model name and revision in production is not recommended.\n",
      "Device set to use cuda:0\n"
     ]
    }
   ],
   "source": [
    "qa_pipeline = pipeline(\"question-answering\")"
   ]
  },
  {
   "cell_type": "markdown",
   "id": "d6b9489b",
   "metadata": {},
   "source": [
    "# Scaling Ingredients"
   ]
  },
  {
   "cell_type": "code",
   "execution_count": 17,
   "id": "aa692c12",
   "metadata": {
    "tags": []
   },
   "outputs": [],
   "source": [
    "def scale_ingredients(global_dish,scale_ingredient_by,pos_ingredient_dict):\n",
    "    pos_ingredient_dict_scaled = pos_ingredient_dict\n",
    "    counter1 = 0\n",
    "    for element in pos_ingredient_dict[global_dish]:\n",
    "        counter2 = 0\n",
    "        for tags in element:\n",
    "            if tags[1] == 'CD':\n",
    "                pos_ingredient_dict_scaled[global_dish][counter1][counter2] = [float(Fraction(tags[0]))*scale_ingredient_by,'CD']\n",
    "            counter2+=1\n",
    "        counter1+=1\n",
    "    return pos_ingredient_dict_scaled\n"
   ]
  },
  {
   "cell_type": "code",
   "execution_count": 18,
   "id": "58462470",
   "metadata": {
    "tags": []
   },
   "outputs": [],
   "source": [
    "def print_ingredients(global_dish,ingredients):\n",
    "    for element in ingredients[global_dish]:\n",
    "        ingredient = ''\n",
    "        for tags in element:\n",
    "            ingredient += str(tags[0]) + ' '\n",
    "        print(ingredient)"
   ]
  },
  {
   "cell_type": "code",
   "execution_count": 19,
   "id": "c41794fc",
   "metadata": {
    "tags": []
   },
   "outputs": [
    {
     "name": "stdout",
     "output_type": "stream",
     "text": [
      "\n",
      "2 tablespoons grated lemon zest \n",
      "1/2 cup fresh lemon juice \n",
      "3 tablespoons packed light brown sugar \n",
      "1/3 cup buttermilk \n",
      "12 skin-on chicken drumsticks (3 1/2 to 4 1/4 pounds) \n",
      "Kosher salt and freshly ground black pepper \n",
      "2 cups panko (Japanese breadcrumbs) \n",
      "1 tablespoon chopped fresh thyme \n",
      "Pinch of cayenne pepper \n",
      "1/4 cup mayonnaise \n",
      "Olive-oil cooking spray \n",
      "\n",
      "4.0 tablespoons grated lemon zest \n",
      "1.0 cup fresh lemon juice \n",
      "6.0 tablespoons packed light brown sugar \n",
      "0.6666666666666666 cup buttermilk \n",
      "24.0 skin-on chicken drumsticks (3 1.0 to 8.0 0.5 pounds) \n",
      "Kosher salt and freshly ground black pepper \n",
      "4.0 cups panko (Japanese breadcrumbs) \n",
      "2.0 tablespoon chopped fresh thyme \n",
      "Pinch of cayenne pepper \n",
      "0.5 cup mayonnaise \n",
      "Olive-oil cooking spray \n"
     ]
    }
   ],
   "source": [
    "pos_ingredient_dict = {}\n",
    "pos_ingredient_dict_scaled = {}\n",
    "scale_ingredient_by = 12#int(input(\"How many servings do you need?\" ))#enter 12\n",
    "print()\n",
    "servings = int(recipe[global_dish]['servings'][0])\n",
    "\n",
    "if(servings != 0):\n",
    "    pos_ingredient_dict = pos_tagging_ingredient(recipe,global_dish)\n",
    "\n",
    "    #before scaling\n",
    "    print_ingredients(global_dish,pos_ingredient_dict)\n",
    "    print()\n",
    "\n",
    "    pos_ingredient_dict_scaled = scale_ingredients(global_dish,(scale_ingredient_by/servings),pos_ingredient_dict)\n",
    "    #after scaling\n",
    "    print_ingredients(global_dish,pos_ingredient_dict_scaled)\n"
   ]
  },
  {
   "cell_type": "markdown",
   "id": "0d214dd0-c195-4098-97b3-d2ad3bd91b83",
   "metadata": {
    "tags": []
   },
   "source": [
    "# RAG"
   ]
  },
  {
   "cell_type": "code",
   "execution_count": 26,
   "id": "701c2d29-4d75-426a-80cb-de3d4d7d10ee",
   "metadata": {
    "tags": []
   },
   "outputs": [],
   "source": [
    "from llama_index.core import VectorStoreIndex, Document\n",
    "from llama_index.llms.ollama import Ollama\n",
    "from llama_index.embeddings.ollama import OllamaEmbedding\n",
    "from llama_index.core import Settings\n",
    "import nest_asyncio\n",
    "\n",
    "# 初始化设置\n",
    "nest_asyncio.apply()\n",
    "Settings.llm = Ollama(model=\"qwen:7b\", request_timeout=600.0)\n",
    "Settings.embed_model = OllamaEmbedding(model_name=\"nomic-embed-text\")\n",
    "Settings.chunk_size = 1024  # 适合菜谱文本的长度\n",
    "\n",
    "# 示例菜谱数据\n",
    "recipe_data = {\n",
    "    \"Pasta\": {\n",
    "        \"ingredient\": [\"200g pasta\", \"2 cloves garlic\", \"100ml olive oil\"],\n",
    "        \"step\": [\"Boil pasta 8 mins\", \"Chop garlic\", \"Fry garlic\", \"Mix all\"],\n",
    "        \"metadata\": {\n",
    "            \"cuisine\": \"Italian\",\n",
    "            \"cook_time\": \"20 mins\",\n",
    "            \"difficulty\": \"Easy\"\n",
    "        }\n",
    "    },\n",
    "    \"Kung Pao Chicken\": {\n",
    "        \"ingredient\": [\"500g chicken\", \"50g peanuts\", \"3 dried chilies\"],\n",
    "        \"step\": [\"Marinate chicken\", \"Stir-fry chilies\", \"Add peanuts\"],\n",
    "        \"metadata\": {\n",
    "            \"cuisine\": \"Chinese\",\n",
    "            \"cook_time\": \"30 mins\",\n",
    "            \"difficulty\": \"Medium\"\n",
    "        }\n",
    "    }\n",
    "}\n",
    "\n",
    "# 文档预处理\n",
    "def prepare_recipe_documents(data):\n",
    "    documents = []\n",
    "    for name, details in data.items():\n",
    "        text = f\"\"\"\n",
    "        Recipe: {name}\n",
    "        Cuisine: {details['metadata']['cuisine']}\n",
    "        Cook Time: {details['metadata']['cook_time']}\n",
    "        Difficulty: {details['metadata']['difficulty']}\n",
    "        \n",
    "        Ingredients:\n",
    "        {', '.join(details['ingredient'])}\n",
    "        \n",
    "        Steps:\n",
    "        {'; '.join(details['step'])}\n",
    "        \"\"\"\n",
    "        documents.append(Document(\n",
    "            text=text,\n",
    "            metadata={\"recipe_name\": name, **details[\"metadata\"]}\n",
    "        ))\n",
    "    return documents\n",
    "\n",
    "# 构建索引\n",
    "documents = prepare_recipe_documents(recipe_data)\n",
    "index = VectorStoreIndex.from_documents(documents)"
   ]
  },
  {
   "cell_type": "markdown",
   "id": "df7ff0aa-2c88-46a3-963a-d41af449678e",
   "metadata": {},
   "source": [
    "## 基础查询"
   ]
  },
  {
   "cell_type": "code",
   "execution_count": 10,
   "id": "f1838fda-9af3-4bd8-a792-ba4df89183ac",
   "metadata": {
    "tags": []
   },
   "outputs": [
    {
     "name": "stdout",
     "output_type": "stream",
     "text": [
      "Q: 如何制作意大利面？\n",
      "A: 要制作意大利面，你可以按照以下步骤进行：\n",
      "\n",
      "1. **准备材料**：你需要200克意大利面（Pasta），2瓣蒜头（Chopped Garlic），100毫升橄榄油（Olive Oil）。\n",
      "\n",
      "2. **煮意大利面**：在一大锅中加入足够的水，然后撒入适量的盐（用于调味）。将火调至最大，让水烧开。放入200克意大利面，按照包装上的时间（通常是8-12分钟）煮熟。煮好后用漏勺捞出面条，沥干水分。\n",
      "\n",
      "3. **处理蒜和烹饪面**：在平底锅中加入橄榄油，将切好的蒜瓣放入锅中，用中小火慢慢煎至微黄。此时，意大利面应该已经备好了，你可以将它们倒入锅中，充分混合蒜香和面条的口感。\n",
      "\n",
      "4. **上桌与装饰**：最后将意大利面盛到盘子里，根据个人喜好可以撒一些新鲜的罗勒叶或帕尔马奶酪进行装饰。现在，一道美味的意大利面就制作完成了！\n",
      "\n",
      "Q: 宫保鸡丁需要哪些原料？\n",
      "A: 宫保鸡丁的原料包括：\n",
      "\n",
      "500g鸡肉（通常选用鸡胸肉或鸡腿肉切丁）\n",
      "50g花生米，也可以用杏仁或其他坚果代替\n",
      "3个干辣椒剪成小段\n",
      "\n",
      "需要注意的是，具体的配料可能会根据不同的厨师或者地区而有所变化。\n",
      "\n",
      "Q: Pizza需要哪些原料?\n",
      "A: 要制作披萨，通常需要以下原料：\n",
      "\n",
      "- 披萨饼底：这可以是现成的商业面团，也可以是自制的。常见的原料包括面粉、酵母、水和盐。\n",
      "- 酱料：这通常是番茄酱或者浓缩番茄汁。有时也会用到蒜蓉、洋葱或各种香草作为调味。\n",
      "- 奶酪：这是披萨的灵魂。通常选择马苏里拉奶酪，但也可以加入其他类型的奶酪如帕玛森或切达奶酪来增加风味。\n",
      "- 其他配料：这可能包括肉类（如意大利辣香肠、火腿或鸡肉片）、蔬菜（如菠萝、青椒、洋葱或菇类）、坚果或水果等。\n",
      "\n",
      "请注意，不同的地区和披萨店可能会有自己独特的配方。\n",
      "\n",
      "Q: 请比较Pasta和宫保鸡丁的制作难度\n",
      "A: Pasta和宫保鸡丁的制作难度可以这样比较：\n",
      "\n",
      "1. Pasta（意大利面）：其难度被标记为\"Easy\"。对于熟悉厨房基本操作的人来说，准备和烹饪意大利面通常不会太复杂。\n",
      "\n",
      "2. 宫保鸡丁（Gong Pao Chicken）：难度被标记为\"Medium\"。这表明它比Pasta稍微复杂一些。宫保鸡丁需要腌制鸡肉、炒香配料以及掌握火候等步骤。\n",
      "\n",
      "综上所述，宫保鸡丁的制作难度略高于意大利面，但两者都是相对简单易学的料理。\n",
      "\n",
      "Q: 推荐一个制作时间短的菜谱\n",
      "A: 推荐您尝试一下\"意大利面\"这个菜谱。它属于意大利烹饪，烹饪时间大约为20分钟。步骤包括煮面、切蒜、炒蒜和混合所有材料。这道菜简单快捷，非常适合需要快速准备餐点的时候。\n",
      "\n"
     ]
    }
   ],
   "source": [
    "# 简单查询引擎\n",
    "basic_engine = index.as_query_engine()\n",
    "\n",
    "def query_recipe(question):\n",
    "    response = basic_engine.query(question)\n",
    "    print(f\"Q: {question}\\nA: {response}\\n\")\n",
    "\n",
    "# 示例查询\n",
    "query_recipe(\"如何制作意大利面？\")\n",
    "query_recipe(\"宫保鸡丁需要哪些原料？\")\n",
    "query_recipe(\"Pizza需要哪些原料?\")\n",
    "query_recipe(\"请比较Pasta和宫保鸡丁的制作难度\")\n",
    "query_recipe(\"推荐一个制作时间短的菜谱\")"
   ]
  },
  {
   "cell_type": "markdown",
   "id": "c62ba72f-a116-4839-8836-bb9e9860cdfb",
   "metadata": {},
   "source": [
    "## 对话模式"
   ]
  },
  {
   "cell_type": "code",
   "execution_count": 11,
   "id": "143ae0a4-2af2-4fa1-974d-5f550a25a252",
   "metadata": {
    "tags": []
   },
   "outputs": [
    {
     "name": "stdout",
     "output_type": "stream",
     "text": [
      "菜谱助手已就绪（输入'退出'结束）\n"
     ]
    },
    {
     "name": "stdin",
     "output_type": "stream",
     "text": [
      "\n",
      "您的问题： 你好\n"
     ]
    },
    {
     "name": "stdout",
     "output_type": "stream",
     "text": [
      "> Running step df10f664-390b-4256-a913-f77e2c706f79. Step input: 你好\n",
      "\u001b[1;3;38;5;200mThought: The current language of the user is: English.\n",
      "Answer: Hello! How can I assist you today?\n",
      "\u001b[0m助手：Hello! How can I assist you today?\n"
     ]
    },
    {
     "name": "stdin",
     "output_type": "stream",
     "text": [
      "\n",
      "您的问题： 请说中文\n"
     ]
    },
    {
     "name": "stdout",
     "output_type": "stream",
     "text": [
      "> Running step 996f67d3-f6bf-4e38-9bc4-41ac13dcfe66. Step input: 请说中文\n",
      "\u001b[1;3;38;5;200mThought: (Implicit) I can answer without any more tools!\n",
      "Answer: 当然，我们可以用中文交流。有什么我可以帮您的吗？\n",
      "\u001b[0m助手：当然，我们可以用中文交流。有什么我可以帮您的吗？\n"
     ]
    },
    {
     "name": "stdin",
     "output_type": "stream",
     "text": [
      "\n",
      "您的问题： 怎么做意大利面？\n"
     ]
    },
    {
     "name": "stdout",
     "output_type": "stream",
     "text": [
      "> Running step 8e128078-8793-4d10-a9da-2ada4d2cf5b6. Step input: 怎么做意大利面？\n",
      "\u001b[1;3;38;5;200mThought: (Implicit) I can answer without any more tools!\n",
      "Answer: 要做意大利面，您可以按照以下步骤操作：\n",
      "\n",
      "1. **准备材料**：购买你喜欢的意大利面（如通心粉、螺旋粉等），新鲜番茄或其他蔬菜作为酱料，以及盐、胡椒粉等调料。\n",
      "\n",
      "2. **煮面**：在大锅中加入足够的水，烧开后加适量盐。根据包装上的指示时间，将意大利面放入沸水中，用筷子或叉子轻轻拨动防止粘连，煮至软硬适口即可。\n",
      "\n",
      "3. **准备酱料**：将番茄切块，如果使用其他蔬菜，也可以清洗干净切丁。然后在一个锅中加入少量橄榄油，热后加入切好的番茄块（或其他蔬菜），小火慢慢炖煮，期间可以适量加盐、胡椒粉调味。\n",
      "\n",
      "4. **混合面和酱料**：在大碗或大盘子里放一大勺煮好的意大利面，再均匀倒入已经炖煮好的酱料，用筷子轻轻拌匀，让每一根面条都裹上美味的酱汁。\n",
      "\n",
      "现在你的意大利面就做好了，可以享用了。祝你用餐愉快！\n",
      "\u001b[0m助手：要做意大利面，您可以按照以下步骤操作：\n",
      "\n",
      "1. **准备材料**：购买你喜欢的意大利面（如通心粉、螺旋粉等），新鲜番茄或其他蔬菜作为酱料，以及盐、胡椒粉等调料。\n",
      "\n",
      "2. **煮面**：在大锅中加入足够的水，烧开后加适量盐。根据包装上的指示时间，将意大利面放入沸水中，用筷子或叉子轻轻拨动防止粘连，煮至软硬适口即可。\n",
      "\n",
      "3. **准备酱料**：将番茄切块，如果使用其他蔬菜，也可以清洗干净切丁。然后在一个锅中加入少量橄榄油，热后加入切好的番茄块（或其他蔬菜），小火慢慢炖煮，期间可以适量加盐、胡椒粉调味。\n",
      "\n",
      "4. **混合面和酱料**：在大碗或大盘子里放一大勺煮好的意大利面，再均匀倒入已经炖煮好的酱料，用筷子轻轻拌匀，让每一根面条都裹上美味的酱汁。\n",
      "\n",
      "现在你的意大利面就做好了，可以享用了。祝你用餐愉快！\n"
     ]
    },
    {
     "name": "stdin",
     "output_type": "stream",
     "text": [
      "\n",
      "您的问题： 怎么做的更健康一点？\n"
     ]
    },
    {
     "name": "stdout",
     "output_type": "stream",
     "text": [
      "> Running step 8d68bbff-24bf-48a4-98da-7b471ed0661f. Step input: 怎么做的更健康一点？\n",
      "\u001b[1;3;38;5;200mThought: (Implicit) I can answer without any more tools!\n",
      "Answer: 要做更健康的意大利面，你可以考虑以下几点来调整食谱：\n",
      "\n",
      "1. **选择全麦或低脂意大利面**：相比普通的白面条，全麦或低脂的意大利面含有更多的膳食纤维，有助于消化和控制体重。\n",
      "\n",
      "2. **增加蔬菜量**：在煮面的同时加入切好的蔬菜（如菠菜、西兰花、洋葱等），不仅可以提供丰富的维生素和矿物质，还能提高饱腹感。\n",
      "\n",
      "3. **使用低脂酱料**：传统的番茄酱通常含有较高的脂肪。可以选择低脂的番茄酱或者自制无油酱汁。\n",
      "\n",
      "4. **适量添加橄榄油或坚果**：这些健康的油脂可以提升口感，并提供必需的脂肪酸。\n",
      "\n",
      "遵循以上建议，你就可以做一道更健康、美味的意大利面了！\n",
      "\u001b[0m助手：要做更健康的意大利面，你可以考虑以下几点来调整食谱：\n",
      "\n",
      "1. **选择全麦或低脂意大利面**：相比普通的白面条，全麦或低脂的意大利面含有更多的膳食纤维，有助于消化和控制体重。\n",
      "\n",
      "2. **增加蔬菜量**：在煮面的同时加入切好的蔬菜（如菠菜、西兰花、洋葱等），不仅可以提供丰富的维生素和矿物质，还能提高饱腹感。\n",
      "\n",
      "3. **使用低脂酱料**：传统的番茄酱通常含有较高的脂肪。可以选择低脂的番茄酱或者自制无油酱汁。\n",
      "\n",
      "4. **适量添加橄榄油或坚果**：这些健康的油脂可以提升口感，并提供必需的脂肪酸。\n",
      "\n",
      "遵循以上建议，你就可以做一道更健康、美味的意大利面了！\n"
     ]
    },
    {
     "name": "stdin",
     "output_type": "stream",
     "text": [
      "\n",
      "您的问题： 退出\n"
     ]
    }
   ],
   "source": [
    "from llama_index.core.memory import ChatMemoryBuffer\n",
    "\n",
    "# 带记忆的聊天引擎\n",
    "memory = ChatMemoryBuffer.from_defaults(token_limit=3900)\n",
    "chat_engine = index.as_chat_engine(\n",
    "    chat_mode=\"best\",\n",
    "    memory=memory,\n",
    "    verbose=True\n",
    ")\n",
    "\n",
    "def recipe_chat():\n",
    "    print(\"菜谱助手已就绪（输入'退出'结束）\")\n",
    "    while True:\n",
    "        query = input(\"\\n您的问题：\")\n",
    "        if query.lower() in ['退出', 'exit']:\n",
    "            break\n",
    "        response = chat_engine.chat(query)\n",
    "        print(f\"助手：{response}\")\n",
    "\n",
    "# 启动对话\n",
    "recipe_chat()"
   ]
  },
  {
   "cell_type": "markdown",
   "id": "1ebcb017-8a18-407c-85d1-99250c5d7e60",
   "metadata": {
    "tags": []
   },
   "source": [
    "##  高级功能实现"
   ]
  },
  {
   "cell_type": "markdown",
   "id": "facf306f-528f-49bc-b260-c1eba1fd03a8",
   "metadata": {},
   "source": [
    "###  重排序查询"
   ]
  },
  {
   "cell_type": "code",
   "execution_count": 12,
   "id": "06250ddb-c52f-4182-97a3-192107aed7e5",
   "metadata": {
    "tags": []
   },
   "outputs": [
    {
     "name": "stdout",
     "output_type": "stream",
     "text": [
      "Kung Pao Chicken (匹配度: 0.65)\n",
      "Pasta (匹配度: 0.45)\n"
     ]
    }
   ],
   "source": [
    "from sklearn.metrics.pairwise import cosine_similarity\n",
    "\n",
    "def rerank_recipes(query, candidates, embed_model):\n",
    "    query_embed = embed_model._get_text_embedding(query)\n",
    "    doc_embeddings = [embed_model._get_text_embedding(node.text) for node in candidates]\n",
    "    scores = cosine_similarity([query_embed], doc_embeddings)[0]\n",
    "    return sorted(zip(candidates, scores), key=lambda x: x[1], reverse=True)\n",
    "\n",
    "# 使用示例\n",
    "query = \"chicken\"\n",
    "nodes = basic_engine.retrieve(query)\n",
    "ranked = rerank_recipes(query, nodes, Settings.embed_model)\n",
    "for node, score in ranked[:3]:\n",
    "    print(f\"{node.metadata['recipe_name']} (匹配度: {score:.2f})\")"
   ]
  },
  {
   "cell_type": "markdown",
   "id": "c52670ec-eb26-4ac0-aba2-e997891e1328",
   "metadata": {},
   "source": [
    "### 关键词增强查询"
   ]
  },
  {
   "cell_type": "code",
   "execution_count": 27,
   "id": "615f9e16-74b7-484c-b180-4cc12ce4d2ee",
   "metadata": {
    "tags": []
   },
   "outputs": [
    {
     "name": "stderr",
     "output_type": "stream",
     "text": [
      "100%|█████████████████████████████████████████████| 1/1 [00:00<00:00,  3.06it/s]\n",
      "100%|█████████████████████████████████████████████| 1/1 [00:00<00:00,  2.29it/s]\n",
      "100%|█████████████████████████████████████████████| 2/2 [00:01<00:00,  1.62it/s]"
     ]
    },
    {
     "name": "stdout",
     "output_type": "stream",
     "text": [
      "生成 2 个节点\n",
      "示例节点关键词: Keywords: Italian Pasta Recipe, Easy Garlic Pasta, Olive Oil Pasta, Italian Cookery, FamilyFriendly晚餐\n"
     ]
    },
    {
     "name": "stderr",
     "output_type": "stream",
     "text": [
      "\n"
     ]
    }
   ],
   "source": [
    "from llama_index.core.ingestion import IngestionPipeline\n",
    "from llama_index.core.node_parser import TokenTextSplitter\n",
    "from llama_index.core.extractors import TitleExtractor, KeywordExtractor\n",
    "\n",
    "# 1. 创建文本分割器\n",
    "text_splitter = TokenTextSplitter(\n",
    "    separator=\" \",\n",
    "    chunk_size=512,\n",
    "    chunk_overlap=20\n",
    ")\n",
    "\n",
    "# 2. 创建内容提取器\n",
    "title_extractor = TitleExtractor(nodes=5)\n",
    "keyword_extractor = KeywordExtractor(keywords=5)\n",
    "\n",
    "# 3. 正确初始化pipeline（注意不是直接调用）\n",
    "pipeline = IngestionPipeline(\n",
    "    transformations=[\n",
    "        text_splitter,\n",
    "        title_extractor,\n",
    "        keyword_extractor\n",
    "    ]\n",
    ")\n",
    "\n",
    "# 4. 运行pipeline（这才是正确的调用方式）\n",
    "nodes = pipeline.run(documents=documents)  # 注意使用run()方法\n",
    "\n",
    "# 查看处理结果\n",
    "print(f\"生成 {len(nodes)} 个节点\")\n",
    "print(\"示例节点关键词:\", nodes[0].metadata[\"excerpt_keywords\"])"
   ]
  },
  {
   "cell_type": "code",
   "execution_count": 35,
   "id": "b2d41e75-2229-4be6-944e-e88bfa69c234",
   "metadata": {
    "tags": []
   },
   "outputs": [
    {
     "name": "stderr",
     "output_type": "stream",
     "text": [
      "100%|█████████████████████████████████████████████| 1/1 [00:00<00:00,  2.87it/s]\n",
      "100%|█████████████████████████████████████████████| 1/1 [00:00<00:00,  2.73it/s]\n",
      "100%|█████████████████████████████████████████████| 2/2 [00:01<00:00,  1.57it/s]"
     ]
    },
    {
     "name": "stdout",
     "output_type": "stream",
     "text": [
      "生成 2 个节点\n",
      "示例节点关键词: Keywords: Pasta recipe, Italian cuisine, Easy cooking time, Garlic and olive oil twist\n"
     ]
    },
    {
     "name": "stderr",
     "output_type": "stream",
     "text": [
      "\n"
     ]
    }
   ],
   "source": [
    "from llama_index.core.ingestion import IngestionPipeline\n",
    "from llama_index.core.node_parser import TokenTextSplitter\n",
    "from llama_index.core.extractors import TitleExtractor, KeywordExtractor\n",
    "from llama_index.core.query_engine import CustomQueryEngine\n",
    "from llama_index.core.retrievers import BaseRetriever\n",
    "from llama_index.core.response_synthesizers import BaseSynthesizer\n",
    "from llama_index.core import get_response_synthesizer\n",
    "# 1. 创建文本分割器\n",
    "text_splitter = TokenTextSplitter(\n",
    "    separator=\" \",\n",
    "    chunk_size=512,\n",
    "    chunk_overlap=20\n",
    ")\n",
    "\n",
    "# 2. 创建内容提取器\n",
    "title_extractor = TitleExtractor(nodes=5)\n",
    "keyword_extractor = KeywordExtractor(keywords=5)\n",
    "\n",
    "# 3. 正确初始化pipeline（注意不是直接调用）\n",
    "pipeline = IngestionPipeline(\n",
    "    transformations=[\n",
    "        text_splitter,\n",
    "        title_extractor,\n",
    "        keyword_extractor\n",
    "    ]\n",
    ")\n",
    "\n",
    "# 4. 运行pipeline（这才是正确的调用方式）\n",
    "nodes = pipeline.run(documents=documents)  # 注意使用run()方法\n",
    "\n",
    "# 查看处理结果\n",
    "print(f\"生成 {len(nodes)} 个节点\")\n",
    "print(\"示例节点关键词:\", nodes[0].metadata[\"excerpt_keywords\"])"
   ]
  },
  {
   "cell_type": "code",
   "execution_count": 36,
   "id": "bbff3643-074d-4f79-8a7d-10b504388482",
   "metadata": {
    "tags": []
   },
   "outputs": [
    {
     "name": "stderr",
     "output_type": "stream",
     "text": [
      "100%|█████████████████████████████████████████████| 1/1 [00:00<00:00,  2.47it/s]\n",
      "100%|█████████████████████████████████████████████| 1/1 [00:00<00:00,  2.44it/s]\n",
      "100%|█████████████████████████████████████████████| 2/2 [00:01<00:00,  1.64it/s]\n"
     ]
    },
    {
     "name": "stdout",
     "output_type": "stream",
     "text": [
      "Empty Response\n",
      "宫保鸡丁是中国川菜的经典菜品，并不属于正宗的西餐。如果您想尝试西餐，建议选择如牛排、鸡肉卷等菜单项。\n"
     ]
    }
   ],
   "source": [
    "# 将pipeline运用到document中，并向量化index\n",
    "index = VectorStoreIndex.from_documents(\n",
    "    documents, transformations=[text_splitter, title_extractor, kw_extractor]\n",
    ")\n",
    "\n",
    "# 然后实现query中的关键词提炼，并匹配文档中的关键词\n",
    "\n",
    "# 定义具有记忆的查询函数\n",
    "memory_buffer = ChatMemoryBuffer.from_defaults(token_limit=3900)\n",
    "class RAGQueryEngine(CustomQueryEngine):\n",
    "    \"\"\"RAG Query Engine\"\"\"\n",
    "    \n",
    "    retriever: BaseRetriever\n",
    "    response_synthesizer: BaseSynthesizer\n",
    "    memory: memory_buffer\n",
    "\n",
    "    def custom_query(self, query_str: str):\n",
    "        nodes = self.retriever.retrieve(query_str)\n",
    "        response_obj = self.response_synthesizer.synthesize(query_str, nodes)\n",
    "        return response_obj\n",
    "\n",
    "# 定义使用的模型\n",
    "mymodel = \"qwen:7b\"\n",
    "llm = Ollama(model=mymodel, request_timeout=600.0)\n",
    "def get_keywords_from_llama(query):\n",
    "    #设置系统prompt限制LLM按照要求输出\n",
    "    system_prompt = (\n",
    "        f\"你是一个专业的关键词提取助手。\\n\"\n",
    "        f\"请根据用户的以下问题或文本，提取出最多3个关键词!!!一定注意回答的每个关键词都不要超过3个中文字!!\\n\"\n",
    "        f\"如果你输出的答案中每个关键词超过3个字，请检查，然后再输出一个满足要求的结果给我\\n\"\n",
    "        f\"问题或文本: {query}\\n\"\n",
    "        f\"你的答案：关键词:\"\n",
    "    )\n",
    "    formatted_prompt = system_prompt.format(query=query)\n",
    "    response = \"\"\n",
    "    while not response.startswith(\"关键词: \"):\n",
    "        response = llm.complete(formatted_prompt).text\n",
    "        if not response.startswith(\"关键词: \"):\n",
    "            continue\n",
    "    #处理LLM输出关键词文本的结构，变成可处理的统一形式\n",
    "    keywords_part = response[len(\"关键词: \"):].strip().rstrip('。')\n",
    "    separators = ['、', '，', ',']\n",
    "    chosen_separator = None\n",
    "    for sep in separators:\n",
    "        if sep in keywords_part:\n",
    "            chosen_separator = sep\n",
    "            break\n",
    "    if chosen_separator is None:\n",
    "        keywords = [keywords_part] if keywords_part.strip() else []\n",
    "    else:\n",
    "        keywords = [keyword.strip() for keyword in keywords_part.split(chosen_separator) if keyword.strip()]\n",
    "    return keywords\n",
    "\n",
    "# 将输入的字符串按每两个中文字符分割成列表中的元素\n",
    "def split_into_pairs(text):\n",
    "    \"\"\"\n",
    "    将输入的字符串按每两个中文字符分割成列表中的元素。\n",
    "    如果最后一个分段不足两个字符，则保持原样。\n",
    "    \"\"\"\n",
    "    pairs = []\n",
    "    length = len(text)\n",
    "    for i in range(0, length, 2):\n",
    "        pairs.append(text[i:min(i+2, length)])\n",
    "    return pairs\n",
    "\n",
    "# 定义关键词提取函数\n",
    "def qs(query):\n",
    "    keywords = get_keywords_from_llama(query)\n",
    "    \n",
    "    # 将每个关键词进一步分割为每两个字符的片段\n",
    "    split_keywords = [split_into_pairs(keyword) for keyword in keywords]\n",
    "    \n",
    "    flattened_keywords = [item for sublist in split_keywords for item in sublist]\n",
    "    \n",
    "    return flattened_keywords\n",
    "\n",
    "# 关键词提取示例\n",
    "qs(\"我想吃西餐，可以吃宫保鸡丁吗？\")\n",
    "\n",
    "# 实现关键词匹配的查询\n",
    "def query_with_keywords_matched(query):\n",
    "    keywords = get_keywords_from_llama(query)\n",
    "    filters_list = [\n",
    "        MetadataFilter(key=\"excerpt_keywords\", value=keyword, operator=\"contains\")\n",
    "        for keyword in keywords\n",
    "    ]\n",
    "    filters = MetadataFilters(filters=filters_list)\n",
    "    retriever = index.as_retriever(\n",
    "        filters=filters,\n",
    "    )\n",
    "    synthesizer = get_response_synthesizer(response_mode=\"compact\")\n",
    "\n",
    "    query_engine = RAGQueryEngine(\n",
    "        retriever=retriever, response_synthesizer=synthesizer, memory=memory_buffer\n",
    "    )\n",
    "    response = query_engine.query(query)\n",
    "    print(response)\n",
    "\n",
    "# 关键词匹配查询示例\n",
    "query_with_keywords_matched(\"我想吃西餐，可以吃宫保鸡丁吗？\")\n",
    "\n",
    "# 对比不使用关键词匹配的查询（设置top_k）\n",
    "retriever = index.as_retriever(\n",
    "    top_k = 8,\n",
    ")\n",
    "\n",
    "synthesizer = get_response_synthesizer(response_mode=\"compact\")\n",
    "\n",
    "query_engine = RAGQueryEngine(\n",
    "    retriever=retriever, response_synthesizer=synthesizer, memory=memory_buffer\n",
    ")\n",
    "\n",
    "response1 = query_engine.query(f\"我想吃西餐，可以吃宫保鸡丁吗？\")\n",
    "print(str(response1))"
   ]
  },
  {
   "cell_type": "markdown",
   "id": "a7ed5e45-92d5-4ea7-9157-6d4450f3d97e",
   "metadata": {},
   "source": [
    "### 多轮对话优化"
   ]
  },
  {
   "cell_type": "code",
   "execution_count": 38,
   "id": "8adb83d7-ef44-495f-a1f0-7d63f8159063",
   "metadata": {
    "tags": []
   },
   "outputs": [
    {
     "name": "stdin",
     "output_type": "stream",
     "text": [
      "\n",
      "您的烹饪问题： 鸡肉可以怎么吃？\n"
     ]
    },
    {
     "name": "stdout",
     "output_type": "stream",
     "text": [
      "\n",
      "厨师助手：鸡肉是一种非常多功能的食材，可以根据不同的菜系和口味进行多种烹饪方式。以下是一些常见的鸡肉食用方式：\n",
      "\n",
      "1. **家常烧鸡**：将整只鸡切块，用酱油、糖等腌制后烤至金黄。\n",
      "\n",
      "2. **炖汤**：鸡肉与各种蔬菜、骨头或中药材一起慢炖，营养丰富。\n",
      "\n",
      "3. **炒菜**：如宫保鸡丁，用葱姜蒜爆香，加入鸡丁翻炒，最后加醋和花生碎。\n",
      "\n",
      "4. **烧烤串烧**：将鸡肉切片，穿在竹签上，配以辣椒、孜然等调料，烤至金黄酥脆。\n",
      "\n",
      "5. **蒸菜**：如豉汁蒸鸡，用酱油、豆豉等腌制鸡肉后放入蒸锅中蒸熟。\n",
      "\n",
      "根据个人口味和饮食需求，选择适合的烹饪方式可以让鸡肉变得更加美味。\n",
      "\n",
      "[建议提问]: 当然可以。这里是一个专业问题，旨在帮助用户更好地理解烹饪鸡肉的过程：\n",
      "\n",
      "**问题：在制作一道口感鲜嫩的宫保鸡丁过程中，如何正确处理鸡肉以确保其最佳口感？**\n",
      "\n",
      "这个专业问题不仅涵盖了烹饪步骤，还强调了鸡肉处理对于口感的关键影响。\n"
     ]
    },
    {
     "name": "stdin",
     "output_type": "stream",
     "text": [
      "\n",
      "您的烹饪问题： 宫保鸡丁怎么做？\n"
     ]
    },
    {
     "name": "stdout",
     "output_type": "stream",
     "text": [
      "\n",
      "厨师助手：当然可以为您详细介绍宫保鸡丁的做法：\n",
      "\n",
      "**宫保鸡丁食谱：**\n",
      "\n",
      "所需材料：\n",
      "- 鸡胸肉 200克（切丁）\n",
      "- 干辣椒 15根（剪段）\n",
      "- 花生米 50克（炒香备用）\n",
      "- 生姜 30克（切片）\n",
      "- 大葱 1根（切段）\n",
      "- 料酒、酱油、糖、淀粉适量\n",
      "\n",
      "制作步骤：\n",
      "1. **鸡肉处理**：鸡胸肉切成约1厘米的丁，用料酒、1汤匙酱油腌制15分钟。\n",
      "\n",
      "2. **配料准备**：干辣椒剪成小段；生姜和大葱切片；花生米炒香备用。\n",
      "\n",
      "3. **调料制作**：取一个小碗，加入2汤匙酱油、1汤匙糖和适量水，调匀后备用。\n",
      "\n",
      "4. **烹饪过程**：\n",
      "   - **热锅冷油**：在炒锅中倒入适量油（约5汤匙），小火加热至油温微微冒烟。\n",
      "   \n",
      "   - **下鸡肉翻炒**：将腌制好的鸡丁倒入锅中，用铲子快速翻炒至鸡肉变白。\n",
      "   \n",
      "   - **加入配料和调料**：在鸡肉快熟时，加入干辣椒段、生姜片和大葱片，继续翻炒。\n",
      "   \n",
      "   - **淋入调好的酱汁**：在翻炒均匀后，倒入之前调好的酱油糖水，快速翻炒使鸡肉充分吸收酱汁的味道。\n",
      "   \n",
      "   - **出锅装盘**：待酱汁收干后，迅速将宫保鸡丁盛出装盘，再撒上炒香的花生米即可。\n",
      "\n",
      "希望这个详细的步骤能帮助您在家制作美味的宫保鸡丁。\n",
      "\n",
      "[建议提问]: 当然可以。这里是一个专业问题，旨在帮助用户更好地理解宫保鸡丁制作中的关键步骤：\n",
      "\n",
      "**问题：在制作宫保鸡丁的过程中，如何确保鸡肉的嫩滑以及酱汁与鸡肉充分融合？**\n"
     ]
    },
    {
     "name": "stdin",
     "output_type": "stream",
     "text": [
      "\n",
      "您的烹饪问题： 退出\n"
     ]
    }
   ],
   "source": [
    "def multi_turn_recipe_chat():\n",
    "    memory = ChatMemoryBuffer.from_defaults()\n",
    "    chat_engine = index.as_chat_engine(\n",
    "        chat_mode=\"condense_plus_context\",\n",
    "        memory=memory,\n",
    "        system_prompt=(\n",
    "            \"您是一位专业厨师助手，请根据菜谱数据库回答用户问题。\\n\"\n",
    "            \"回答时请：\\n\"\n",
    "            \"1. 明确说明菜谱名称\\n\"\n",
    "            \"2. 分步骤说明制作方法\\n\"\n",
    "            \"3. 给出烹饪小贴士\\n\"\n",
    "            \"4. 主动询问是否需要补充信息\"\n",
    "        )\n",
    "    )\n",
    "    \n",
    "    while True:\n",
    "        query = input(\"\\n您的烹饪问题：\")\n",
    "        if query.lower() == '退出':\n",
    "            break\n",
    "            \n",
    "        response = chat_engine.chat(query)\n",
    "        print(f\"\\n厨师助手：{response}\")\n",
    "        \n",
    "        # 自动生成后续问题\n",
    "        follow_up = chat_engine.chat(\n",
    "            \"基于刚才的回答，生成一个能帮助用户更好理解烹饪过程的专业问题\"\n",
    "        )\n",
    "        print(f\"\\n[建议提问]: {follow_up}\")\n",
    "\n",
    "# 启动对话\n",
    "multi_turn_recipe_chat()"
   ]
  },
  {
   "cell_type": "markdown",
   "id": "91b65278-d645-4a1c-b24b-e662f605c59e",
   "metadata": {},
   "source": [
    "### 性能优化配置"
   ]
  },
  {
   "cell_type": "code",
   "execution_count": 73,
   "id": "1e33a936-2cdb-47ae-86df-1d8f88cdd1b2",
   "metadata": {
    "tags": []
   },
   "outputs": [
    {
     "name": "stderr",
     "output_type": "stream",
     "text": [
      "100%|█████████████████████████████████████████████| 1/1 [00:00<00:00,  2.60it/s]\n",
      "100%|█████████████████████████████████████████████| 1/1 [00:00<00:00,  2.30it/s]\n",
      "100%|█████████████████████████████████████████████| 2/2 [00:01<00:00,  1.64it/s]\n"
     ]
    }
   ],
   "source": [
    "from llama_index.core.node_parser import TokenTextSplitter\n",
    "from llama_index.core.extractors import TitleExtractor\n",
    "\n",
    "text_splitter = TokenTextSplitter(chunk_size=512, chunk_overlap=64)  # 文本分割器\n",
    "title_extractor = TitleExtractor()  # 标题提取器\n",
    "\n",
    "optimized_index = VectorStoreIndex.from_documents(\n",
    "    documents,\n",
    "    transformations=[text_splitter, title_extractor, kw_extractor]  # 三级处理流水线\n",
    ")\n",
    "\n",
    "from tenacity import retry, stop_after_attempt\n",
    "\n",
    "@retry(stop=stop_after_attempt(3))  # 失败时自动重试最多3次\n",
    "def robust_query(question):\n",
    "    return optimized_index.as_query_engine().query(question)"
   ]
  },
  {
   "cell_type": "code",
   "execution_count": 74,
   "id": "bc93b0ff-7f31-4f60-a37b-c836dca82c8f",
   "metadata": {
    "tags": []
   },
   "outputs": [],
   "source": [
    "def select_recipe_by_criterion(query_result, criterion_key, criterion_value):\n",
    "    for recipe in query_result.values():\n",
    "        if recipe.get(criterion_key) == criterion_value:\n",
    "            return recipe\n",
    "    return None\n"
   ]
  },
  {
   "cell_type": "code",
   "execution_count": 76,
   "id": "5fc23546-1750-44fc-bbac-77dea8d947ce",
   "metadata": {
    "tags": []
   },
   "outputs": [
    {
     "data": {
      "text/plain": [
       "{'530af249-6c5e-48f2-846c-4408e1c497cb': {'recipe_name': 'Kung Pao Chicken',\n",
       "  'cuisine': 'Chinese',\n",
       "  'cook_time': '30 mins',\n",
       "  'difficulty': 'Medium',\n",
       "  'document_title': '\"Complete Kung Pao Chicken Recipe: Easy Preparation with Flavorful Step-by-Step Guide\"',\n",
       "  'excerpt_keywords': '1. Kung Pao Chicken recipe\\n2. Chinese cuisine tutorial\\n3. Easy 30-minute meal idea\\n4. Dried chili stir-fry technique\\n5. Peanut and chicken combination dish'},\n",
       " '219ae46f-acc9-46e3-b233-c868990e6b76': {'recipe_name': 'Pasta',\n",
       "  'cuisine': 'Italian',\n",
       "  'cook_time': '20 mins',\n",
       "  'difficulty': 'Easy',\n",
       "  'document_title': '\"Easy Italian Pasta Recipe: Classic Flavor with Garlic and Olive Oil\"',\n",
       "  'excerpt_keywords': 'Keywords: Italian Pasta Recipe, Easy Italian Cooking, Classic Garlic Olive Oil Flavor, 20-Minute Preparation'}}"
      ]
     },
     "execution_count": 76,
     "metadata": {},
     "output_type": "execute_result"
    }
   ],
   "source": [
    "query_result = robust_query(\"推荐一个菜谱\")\n",
    "query_result.metadata"
   ]
  },
  {
   "cell_type": "code",
   "execution_count": 83,
   "id": "fc11cff9-aa29-4dba-94af-9cbd28eed7d0",
   "metadata": {
    "tags": []
   },
   "outputs": [
    {
     "data": {
      "text/plain": [
       "{'recipe_name': 'Kung Pao Chicken',\n",
       " 'cuisine': 'Chinese',\n",
       " 'cook_time': '30 mins',\n",
       " 'difficulty': 'Medium',\n",
       " 'document_title': '\"Complete Kung Pao Chicken Recipe: Easy Preparation with Flavorful Step-by-Step Guide\"',\n",
       " 'excerpt_keywords': '1. Kung Pao Chicken recipe\\n2. Chinese cuisine tutorial\\n3. Easy 30-minute meal idea\\n4. Dried chili stir-fry technique\\n5. Peanut and chicken combination dish'}"
      ]
     },
     "execution_count": 83,
     "metadata": {},
     "output_type": "execute_result"
    }
   ],
   "source": [
    "selected_recipe"
   ]
  },
  {
   "cell_type": "code",
   "execution_count": 96,
   "id": "eac16fe3-82ca-4c37-b017-60ffe7028764",
   "metadata": {
    "tags": []
   },
   "outputs": [
    {
     "name": "stdout",
     "output_type": "stream",
     "text": [
      "推荐菜谱：\"Complete Kung Pao Chicken Recipe: Easy Preparation with Flavorful Step-by-Step Guide\"\n",
      "难度：Medium\n",
      "关键步骤：\n",
      "1. Kung Pao Chicken recipe\n",
      "2. Chinese cuisine tutorial\n",
      "3. Easy 30-minute meal idea\n",
      "4. Dried chili stir-fry technique\n",
      "5. Peanut and chicken combination dish\n"
     ]
    }
   ],
   "source": [
    "query_result = robust_query(\"推荐一个菜谱\")\n",
    "actual_result = query_result.metadata\n",
    "selected_recipe = select_recipe_by_criterion(actual_result, \"cuisine\", \"Chinese\")\n",
    "if selected_recipe:\n",
    "    keywords_lines = selected_recipe['excerpt_keywords'].split('\\n')\n",
    "    output = (\n",
    "        f\"推荐菜谱：{selected_recipe['document_title']}\\n\"\n",
    "        f\"难度：{selected_recipe.get('difficulty', '未知')}\\n\"\n",
    "        f\"关键步骤：\\n\" +\n",
    "        '\\n'.join(keywords_lines)  # 使用字符串连接而不是 f-string\n",
    "    )\n",
    "    print(output)\n",
    "else:\n",
    "    print(\"未找到符合条件的菜谱\")"
   ]
  }
 ],
 "metadata": {
  "kernelspec": {
   "display_name": "nlp",
   "language": "python",
   "name": "nlp"
  },
  "language_info": {
   "codemirror_mode": {
    "name": "ipython",
    "version": 3
   },
   "file_extension": ".py",
   "mimetype": "text/x-python",
   "name": "python",
   "nbconvert_exporter": "python",
   "pygments_lexer": "ipython3",
   "version": "3.9.21"
  }
 },
 "nbformat": 4,
 "nbformat_minor": 5
}
