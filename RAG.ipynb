{
 "cells": [
  {
   "cell_type": "code",
   "execution_count": 23,
   "id": "26e804d0",
   "metadata": {},
   "outputs": [
    {
     "name": "stderr",
     "output_type": "stream",
     "text": [
      "[nltk_data] Downloading package punkt to\n",
      "[nltk_data]     C:\\Users\\ASUS\\AppData\\Roaming\\nltk_data...\n",
      "[nltk_data]   Package punkt is already up-to-date!\n",
      "[nltk_data] Downloading package averaged_perceptron_tagger to\n",
      "[nltk_data]     C:\\Users\\ASUS\\AppData\\Roaming\\nltk_data...\n",
      "[nltk_data]   Package averaged_perceptron_tagger is already up-to-\n",
      "[nltk_data]       date!\n"
     ]
    },
    {
     "data": {
      "text/plain": [
       "True"
      ]
     },
     "execution_count": 23,
     "metadata": {},
     "output_type": "execute_result"
    }
   ],
   "source": [
    "import nltk\n",
    "nltk.download('punkt')\n",
    "nltk.download('averaged_perceptron_tagger')"
   ]
  },
  {
   "cell_type": "code",
   "execution_count": 24,
   "id": "535f344d",
   "metadata": {},
   "outputs": [],
   "source": [
    "import json\n",
    "import numpy\n",
    "import re\n",
    "import pandas as pd\n",
    "from collections import Counter\n",
    "import requests\n",
    "from bs4 import BeautifulSoup\n",
    "from nltk import pos_tag\n",
    "from nltk import RegexpParser\n",
    "from fractions import Fraction\n",
    "from transformers import pipeline\n",
    "import tkinter as tk\n",
    "from functools import partial \n",
    "# import pyttsx3\n",
    "import tkinter as tk\n",
    "# import customtkinter\n",
    "# import speech_recognition as sr\n",
    "global_dish = 'drumsticks'"
   ]
  },
  {
   "cell_type": "code",
   "execution_count": 25,
   "id": "1462aa50",
   "metadata": {},
   "outputs": [
    {
     "name": "stdout",
     "output_type": "stream",
     "text": [
      "菜谱链接: https://www.foodnetwork.com/recipes/melissa-darabian/buffalo-drumsticks-recipe-2041689\n",
      "{'ingredient': ['Deselect All', '8 drumsticks', '2 tablespoons vegetable oil', '1 teaspoon chili powder', '1 teaspoon garlic powder', 'Salt and freshly ground black pepper', '1/4 cup (1/2 stick) unsalted butter, melted', '1/4 cup hot sauce', '1 tablespoon BBQ sauce'], 'step': ['For the chicken: Preheat the oven to 375 degrees F. Rinse and pat dry the drumsticks. Mix the oil, chili powder, garlic powder, and some salt and pepper in a medium bowl or resealable plastic bag. Toss the drumsticks in the seasoned oil to coat well. Bake the drumsticks on a wire rack placed on a baking sheet (so air circulates around chicken) until very tender and the skin is crisp, 50 minutes.', 'For the spicy sauce: Mix together the butter, hot sauce and BBQ sauce in a large bowl.', 'Toss the drumsticks in the spicy sauce until well coated. Place the drumsticks back on the rack and continue baking an additional 10 to 15 minutes.', \"Cook's Note: For an alternate milder sauce, whisk together 1 tablespoon maple syrup, 1 teaspoon hot sauce, juice and zest of 1 lime, 1 clove of garlic, minced and some salt and pepper.\"], 'level': 'Easy', 'total_time': '1 hr 15 min', 'prep_time': '10 min+1 hr 5 min', 'cook_time': '4 servings', 'servings': 'Easy'}\n"
     ]
    }
   ],
   "source": [
    "from selenium import webdriver\n",
    "from selenium.webdriver.chrome.options import Options\n",
    "from selenium.webdriver.chrome.service import Service\n",
    "from webdriver_manager.chrome import ChromeDriverManager\n",
    "from bs4 import BeautifulSoup\n",
    "import time\n",
    "\n",
    "def get_recipe_details_selenium(dish):\n",
    "    ingredient_list = []\n",
    "    step_list = []\n",
    "    level = '-'\n",
    "    total_time = '-'\n",
    "    prep_time = '-'\n",
    "    cook_time = '-'\n",
    "    servings = '-'\n",
    "\n",
    "    dish_to_search = '-'.join(dish.split(' ')) + '-'\n",
    "    URL = f\"https://www.foodnetwork.com/search/{dish_to_search}\"\n",
    "\n",
    "    options = Options()\n",
    "    options.add_argument('--headless')\n",
    "    options.add_argument('--disable-gpu')\n",
    "    driver = webdriver.Chrome(service=Service(ChromeDriverManager().install()), options=options)\n",
    "    driver.get(URL)\n",
    "    time.sleep(2)\n",
    "    soup = BeautifulSoup(driver.page_source, 'html.parser')\n",
    "\n",
    "    recipe_result_list = soup.find_all('div',{'class':'m-MediaBlock__m-TextWrap'})\n",
    "    recipe_links = []\n",
    "    for i in recipe_result_list:\n",
    "        if i.find('span',{'class':'m-Info__a-SubHeadline'}) is not None:\n",
    "            is_result_recipe = i.find('span',{'class':'m-Info__a-SubHeadline'}).text.strip() == 'Recipe'\n",
    "            if is_result_recipe:\n",
    "                recipe_link_tag = i.find('h3',{'class':'m-MediaBlock__a-Headline'})\n",
    "                recipe_links.append('https:' + recipe_link_tag.find('a')['href'])            \n",
    "\n",
    "    recipe_link_url = recipe_links[0] if recipe_links else None\n",
    "    print(\"菜谱链接:\", recipe_link_url)\n",
    "\n",
    "    if recipe_link_url is None:\n",
    "        driver.quit()\n",
    "        print(\"没有找到菜谱链接\")\n",
    "        return {}\n",
    "\n",
    "    driver.get(recipe_link_url)\n",
    "    time.sleep(2)\n",
    "    soup = BeautifulSoup(driver.page_source, 'html.parser')\n",
    "    driver.quit()\n",
    "\n",
    "    time_serving_details = soup.find_all('span',{'class':'o-RecipeInfo__a-Description'})\n",
    "    if time_serving_details:\n",
    "        text_list = [x.text.strip() for x in time_serving_details]\n",
    "        if len(text_list) >= 6:  # inactive time\n",
    "            level = text_list[0]\n",
    "            total_time = text_list[1]\n",
    "            prep_time = text_list[2] + '+' + text_list[3]\n",
    "            cook_time = text_list[4]\n",
    "            servings = text_list[5]\n",
    "        elif len(text_list) >= 5:\n",
    "            level = text_list[0]\n",
    "            total_time = text_list[1]\n",
    "            prep_time = text_list[2]\n",
    "            cook_time = text_list[3]\n",
    "            servings = text_list[4]\n",
    "        else:\n",
    "            level = text_list[0]\n",
    "            total_time = text_list[1]\n",
    "            cook_time = text_list[2]\n",
    "            servings = text_list[3]\n",
    "\n",
    "    ingredients = soup.find_all('span', {'class': 'o-Ingredients__a-Ingredient--CheckboxLabel'})\n",
    "    ingredient_list = [ingredient.text.strip() for ingredient in ingredients]\n",
    "    if ingredient_list:\n",
    "        if ingredient_list[0]=='':\n",
    "            ingredient_list = ingredient_list[1:]\n",
    "    steps = soup.find_all('li',{'class':'o-Method__m-Step'})\n",
    "    step_list = [step.text.strip() for step in steps]\n",
    "\n",
    "    recipe = {\n",
    "        'ingredient': ingredient_list,\n",
    "        'step': step_list,\n",
    "        'level': level,\n",
    "        'total_time': total_time,\n",
    "        'prep_time': prep_time,\n",
    "        'cook_time': cook_time,\n",
    "        'servings': servings\n",
    "    }\n",
    "    return recipe\n",
    "\n",
    "result = get_recipe_details_selenium(\"drumsticks\")\n",
    "print(result)\n"
   ]
  },
  {
   "cell_type": "code",
   "execution_count": 26,
   "id": "69587c54",
   "metadata": {},
   "outputs": [],
   "source": [
    "def pos_tagging_ingredient(recipe,global_dish):\n",
    "    pos_ingredient_dict = {}\n",
    "    for ingredient in result['ingredient']:\n",
    "        split_ingredient = ingredient.split()\n",
    "        if global_dish not in pos_ingredient_dict:\n",
    "            pos_ingredient_dict[global_dish] = []\n",
    "        pos_ingredient_dict[global_dish].append(pos_tag(split_ingredient))\n",
    "        \n",
    "    return pos_ingredient_dict"
   ]
  },
  {
   "cell_type": "code",
   "execution_count": 27,
   "id": "571ab8bb",
   "metadata": {},
   "outputs": [
    {
     "name": "stderr",
     "output_type": "stream",
     "text": [
      "[nltk_data] Downloading package averaged_perceptron_tagger_eng to\n",
      "[nltk_data]     C:\\Users\\ASUS\\AppData\\Roaming\\nltk_data...\n",
      "[nltk_data]   Package averaged_perceptron_tagger_eng is already up-to-\n",
      "[nltk_data]       date!\n"
     ]
    },
    {
     "data": {
      "text/plain": [
       "[('how', 'WRB'), ('much', 'JJ'), ('olive', 'JJ'), ('oil', 'NN')]"
      ]
     },
     "execution_count": 27,
     "metadata": {},
     "output_type": "execute_result"
    }
   ],
   "source": [
    "import nltk\n",
    "nltk.download('averaged_perceptron_tagger_eng')\n",
    "s = 'how much olive oil'\n",
    "tag=pos_tag(s.split(' '))\n",
    "tag"
   ]
  },
  {
   "cell_type": "code",
   "execution_count": 28,
   "id": "a759d38a",
   "metadata": {},
   "outputs": [
    {
     "name": "stdout",
     "output_type": "stream",
     "text": [
      "['oil']\n"
     ]
    }
   ],
   "source": [
    "#regex for ingredientQueries: how much, amount, quantity, how many, count of \n",
    "ingredientQueries=['much','amount','quantity','many','count']\n",
    "search_nouns=[]\n",
    "for ta in tag:\n",
    "    if ta[1]=='NN':\n",
    "        search_nouns.append(ta[0])\n",
    "print(search_nouns)  "
   ]
  },
  {
   "cell_type": "code",
   "execution_count": 29,
   "id": "38bde5e7",
   "metadata": {},
   "outputs": [],
   "source": [
    "#with POS-Searching the noun from the query in ingredient\n",
    "se=0\n",
    "if search_nouns[se] in ingredientQueries:\n",
    "    while se<len(search_nouns):\n",
    "        for ing in ingredient:\n",
    "            if search_nouns[se] in ing.split():\n",
    "                print(ing)                \n",
    "        se+=1"
   ]
  },
  {
   "cell_type": "code",
   "execution_count": 30,
   "id": "e68e24bd",
   "metadata": {},
   "outputs": [
    {
     "name": "stdout",
     "output_type": "stream",
     "text": [
      "['Deselect All', '8 drumsticks', '2 tablespoons vegetable oil', '1 teaspoon chili powder', '1 teaspoon garlic powder', 'Salt and freshly ground black pepper', '1/4 cup (1/2 stick) unsalted butter, melted', '1/4 cup hot sauce', '1 tablespoon BBQ sauce']\n"
     ]
    }
   ],
   "source": [
    "ingredient = result['ingredient']\n",
    "print(ingredient)"
   ]
  },
  {
   "cell_type": "code",
   "execution_count": 31,
   "id": "70c31d5e",
   "metadata": {},
   "outputs": [
    {
     "name": "stdout",
     "output_type": "stream",
     "text": [
      "2 tablespoons vegetable oil\n"
     ]
    }
   ],
   "source": [
    "se=0\n",
    "while se<len(s.split()):\n",
    "    for ing in ingredient:\n",
    "        if s.split()[se] in ing.split():\n",
    "            print(ing)                \n",
    "    se+=1"
   ]
  },
  {
   "cell_type": "code",
   "execution_count": 32,
   "id": "929735bf",
   "metadata": {},
   "outputs": [],
   "source": [
    "def IngredientQuery(s):\n",
    "    dish = global_dish\n",
    "    pos_ingredient_dict = {}\n",
    "    for ingredient in result['ingredient']:\n",
    "        split_ingredient = ingredient.split()\n",
    "        if dish not in pos_ingredient_dict:\n",
    "            pos_ingredient_dict[dish] = []\n",
    "        pos_ingredient_dict[dish].append(pos_tag(split_ingredient)) \n",
    "        \n",
    "    ingredientQueries=['much','amount','quantity','many','count','step'] #Generic query words related to ingredient questions\n",
    "    \n",
    "    #let us extract all the nouns from the ingredient list and add them to the ingredientQueries list\n",
    "    ingredient=recipe[dish]['ingredient'] \n",
    "    for ingr in ingredient:\n",
    "        wordIng=ingr.split()\n",
    "        tagIng=pos_tag(wordIng)\n",
    "        for tagIn in tagIng:\n",
    "            if tagIn[1]=='NN' or tagIn[1]=='NNS' or tagIn[1]=='NNP': #filter on the basis of Noun \n",
    "                ingredientQueries.append(tagIn[0])\n",
    "                \n",
    "    #Now let us extract all the nouns from the asked question\n",
    "    search_nouns=[]\n",
    "    tag=pos_tag(s.split(' '))\n",
    "    for ta in tag:\n",
    "        if ta[1]=='NN':\n",
    "            search_nouns.append(ta[0])\n",
    "    \n",
    "    #IF the nouns from question matches the nouns from ingredientQueries list, return the ingredient with description\n",
    "    se=0\n",
    "    while se<len(search_nouns):\n",
    "        if search_nouns[se] in ingredientQueries:\n",
    "            for ing in ingredient:\n",
    "                if search_nouns[se] in ing.split():\n",
    "                    return(ing)                \n",
    "        se+=1"
   ]
  },
  {
   "cell_type": "code",
   "execution_count": 33,
   "id": "348c29f3",
   "metadata": {},
   "outputs": [
    {
     "name": "stderr",
     "output_type": "stream",
     "text": [
      "No model was supplied, defaulted to distilbert-base-cased-distilled-squad and revision 626af31 (https://huggingface.co/distilbert-base-cased-distilled-squad).\n",
      "Using a pipeline without specifying a model name and revision in production is not recommended.\n"
     ]
    }
   ],
   "source": [
    "qa_pipeline = pipeline(\"question-answering\")"
   ]
  },
  {
   "cell_type": "code",
   "execution_count": 34,
   "id": "9680cd22",
   "metadata": {},
   "outputs": [],
   "source": [
    "def scale_ingredients(global_dish,scale_ingredient_by,pos_ingredient_dict):\n",
    "    pos_ingredient_dict_scaled = pos_ingredient_dict\n",
    "    counter1 = 0\n",
    "    for element in pos_ingredient_dict[global_dish]:\n",
    "        counter2 = 0\n",
    "        for tags in element:\n",
    "            if tags[1] == 'CD':\n",
    "                pos_ingredient_dict_scaled[global_dish][counter1][counter2] = [float(Fraction(tags[0]))*scale_ingredient_by,'CD']\n",
    "            counter2+=1\n",
    "        counter1+=1\n",
    "    return pos_ingredient_dict_scaled"
   ]
  },
  {
   "cell_type": "code",
   "execution_count": 35,
   "id": "99a94b2f",
   "metadata": {},
   "outputs": [],
   "source": [
    "def print_ingredients(global_dish,ingredients):\n",
    "    for element in ingredients[global_dish]:\n",
    "        ingredient = ''\n",
    "        for tags in element:\n",
    "            ingredient += str(tags[0]) + ' '\n",
    "        print(ingredient)"
   ]
  },
  {
   "cell_type": "code",
   "execution_count": 36,
   "id": "f8525da5",
   "metadata": {},
   "outputs": [
    {
     "name": "stdout",
     "output_type": "stream",
     "text": [
      "Deselect All \n",
      "8 drumsticks \n",
      "2 tablespoons vegetable oil \n",
      "1 teaspoon chili powder \n",
      "1 teaspoon garlic powder \n",
      "Salt and freshly ground black pepper \n",
      "1/4 cup (1/2 stick) unsalted butter, melted \n",
      "1/4 cup hot sauce \n",
      "1 tablespoon BBQ sauce \n",
      "\n",
      "Deselect All \n",
      "96.0 drumsticks \n",
      "24.0 tablespoons vegetable oil \n",
      "12.0 teaspoon chili powder \n",
      "12.0 teaspoon garlic powder \n",
      "Salt and freshly ground black pepper \n",
      "3.0 cup (1/2 stick) unsalted butter, melted \n",
      "3.0 cup hot sauce \n",
      "12.0 tablespoon BBQ sauce \n"
     ]
    }
   ],
   "source": [
    "pos_ingredient_dict = {}\n",
    "pos_ingredient_dict_scaled = {}\n",
    "scale_ingredient_by = 12\n",
    "\n",
    "import re\n",
    "serving_text = result['servings']\n",
    "serving_match = re.search(r'\\d+', serving_text)\n",
    "if serving_match:\n",
    "    servings = int(serving_match.group())\n",
    "else:\n",
    "    servings = 1\n",
    "\n",
    "if servings != 0:\n",
    "    pos_ingredient_dict = pos_tagging_ingredient(result, global_dish)\n",
    "    print_ingredients(global_dish, pos_ingredient_dict)\n",
    "    print()\n",
    "    pos_ingredient_dict_scaled = scale_ingredients(global_dish, (scale_ingredient_by/servings), pos_ingredient_dict)\n",
    "    print_ingredients(global_dish, pos_ingredient_dict_scaled)\n"
   ]
  },
  {
   "cell_type": "code",
   "execution_count": 38,
   "id": "643a1842",
   "metadata": {},
   "outputs": [],
   "source": [
    "from llama_index.core import VectorStoreIndex, Document\n",
    "from llama_index.llms.ollama import Ollama\n",
    "from llama_index.embeddings.ollama import OllamaEmbedding\n",
    "from llama_index.core import Settings\n",
    "import nest_asyncio\n",
    "\n",
    "# 初始化设置\n",
    "nest_asyncio.apply()\n",
    "Settings.llm = Ollama(model=\"qwen:7b\", request_timeout=600.0)\n",
    "Settings.embed_model = OllamaEmbedding(model_name=\"nomic-embed-text\")\n",
    "Settings.chunk_size = 1024  # 适合菜谱文本的长度\n",
    "\n",
    "# 示例菜谱数据\n",
    "recipe_data = {\n",
    "    \"Pasta\": {\n",
    "        \"ingredient\": [\"200g pasta\", \"2 cloves garlic\", \"100ml olive oil\"],\n",
    "        \"step\": [\"Boil pasta 8 mins\", \"Chop garlic\", \"Fry garlic\", \"Mix all\"],\n",
    "        \"metadata\": {\n",
    "            \"cuisine\": \"Italian\",\n",
    "            \"cook_time\": \"20 mins\",\n",
    "            \"difficulty\": \"Easy\"\n",
    "        }\n",
    "    },\n",
    "    \"Kung Pao Chicken\": {\n",
    "        \"ingredient\": [\"500g chicken\", \"50g peanuts\", \"3 dried chilies\"],\n",
    "        \"step\": [\"Marinate chicken\", \"Stir-fry chilies\", \"Add peanuts\"],\n",
    "        \"metadata\": {\n",
    "            \"cuisine\": \"Chinese\",\n",
    "            \"cook_time\": \"30 mins\",\n",
    "            \"difficulty\": \"Medium\"\n",
    "        }\n",
    "    }\n",
    "}\n",
    "\n",
    "# 文档预处理\n",
    "def prepare_recipe_documents(data):\n",
    "    documents = []\n",
    "    for name, details in data.items():\n",
    "        text = f\"\"\"\n",
    "        Recipe: {name}\n",
    "        Cuisine: {details['metadata']['cuisine']}\n",
    "        Cook Time: {details['metadata']['cook_time']}\n",
    "        Difficulty: {details['metadata']['difficulty']}\n",
    "        \n",
    "        Ingredients:\n",
    "        {', '.join(details['ingredient'])}\n",
    "        \n",
    "        Steps:\n",
    "        {'; '.join(details['step'])}\n",
    "        \"\"\"\n",
    "        documents.append(Document(\n",
    "            text=text,\n",
    "            metadata={\"recipe_name\": name, **details[\"metadata\"]}\n",
    "        ))\n",
    "    return documents\n",
    "\n",
    "# 构建索引\n",
    "documents = prepare_recipe_documents(recipe_data)\n",
    "index = VectorStoreIndex.from_documents(documents)"
   ]
  },
  {
   "cell_type": "code",
   "execution_count": 40,
   "id": "53d61308",
   "metadata": {},
   "outputs": [
    {
     "name": "stdout",
     "output_type": "stream",
     "text": [
      "Q: 如何制作意大利面？\n",
      "A: 要制作意大利面，按照下面的步骤操作即可：\n",
      "\n",
      "1. **准备材料**：购买200克意大利面条（Pasta），2瓣大蒜（Chopped Garlic），100毫升橄榄油（Olive Oil）。\n",
      "\n",
      "2. **煮面**：将大锅加水，水量要比面条多一些，然后将火调至中等，等待水沸腾后（约8分钟）放入意大利面条。\n",
      "\n",
      "3. **炒蒜**：当面条开始变软时，捞出面条备用。这时将切好的大蒜放入热油中（不要让油溅起），用中小火慢慢炒至金黄色。\n",
      "\n",
      "4. **混合**：最后，将炒好的蒜末和煮好的意大利面条一起倒入锅中，用剩下的橄榄油轻轻拌匀，让面条充分吸收蒜香味即可上桌享用了。\n",
      "\n",
      "Q: 宫保鸡丁需要哪些原料？\n",
      "A: 宫保鸡丁需要以下原料：\n",
      "\n",
      "- 500克鸡肉（可以选择去骨鸡胸肉或鸡腿肉）\n",
      "- 50克炒熟的花生米（也称为“花生酱”）\n",
      "- 3个干辣椒剪成小段\n",
      "\n",
      "除此之外，制作宫保鸡丁还需要一些调料和蔬菜：\n",
      "\n",
      "- 3瓣大蒜切片\n",
      "- 2个大洋葱切成小块\n",
      "- 100毫升生抽酱油\n",
      "- 50毫升老抽酱油（用于调色）\n",
      "- 50克白糖（用来中和辣味并增加甜度）\n",
      "- 2茶匙淀粉水（用于勾芡）\n",
      "\n",
      "按照上述原料和步骤，您可以成功制作宫保鸡丁了。\n",
      "\n",
      "Q: Pizza需要哪些原料?\n",
      "A: 根据提供的烹饪背景信息，制作 pizza 需要以下原料：\n",
      "\n",
      "1. 面团：通常用高筋面粉，酵母发酵，揉成有弹性的面团。\n",
      "\n",
      "2. 番茄酱：基础是番茄和调料，用于涂抹在面团上作为底料。\n",
      "\n",
      "3. 奶酪（如马苏里拉奶酪）：切成薄片或刨丝后放在披萨上，烤制时融化并增添风味。\n",
      "\n",
      "4. 其他配料：可以根据个人喜好添加各种食材，如蔬菜（如菠菜、洋葱）、香肠、火腿等。\n",
      "\n",
      "Q: 请比较Pasta和宫保鸡丁的制作难度\n",
      "A: Pasta and宫保鸡丁的制作难度可以这样比较：\n",
      "\n",
      "Pasta：\n",
      "- Difficulty: Easy\n",
      "According to the provided context, Pasta is described as an easy recipe to make.\n",
      "\n",
      "宫保鸡丁：\n",
      "- Difficulty: Medium\n",
      "The context mentions that宫保鸡丁 has a difficulty level of Medium. This indicates that the recipe is neither too simple nor overly complex.\n",
      "\n",
      "In summary, both Pasta and宫保鸡丁 have their respective difficulties. While Pasta is easy,宫保鸡丁 is medium in complexity.\n",
      "\n",
      "Q: 推荐一个制作时间短的菜谱\n",
      "A: 推荐 \"Pasta\" 这个菜谱。这个菜谱是意大利菜，烹饪时间仅为20分钟，非常适合想要快速做出美味餐点的人。\n",
      "\n"
     ]
    }
   ],
   "source": [
    "# 简单查询引擎\n",
    "basic_engine = index.as_query_engine()\n",
    "\n",
    "def query_recipe(question):\n",
    "    response = basic_engine.query(question)\n",
    "    print(f\"Q: {question}\\nA: {response}\\n\")\n",
    "\n",
    "# 示例查询\n",
    "query_recipe(\"如何制作意大利面？\")\n",
    "query_recipe(\"宫保鸡丁需要哪些原料？\")\n",
    "query_recipe(\"Pizza需要哪些原料?\")\n",
    "query_recipe(\"请比较Pasta和宫保鸡丁的制作难度\")\n",
    "query_recipe(\"推荐一个制作时间短的菜谱\")"
   ]
  },
  {
   "cell_type": "code",
   "execution_count": 41,
   "id": "fb5f5b61",
   "metadata": {},
   "outputs": [
    {
     "name": "stdout",
     "output_type": "stream",
     "text": [
      "菜谱助手已就绪（输入'退出'结束）\n",
      "\n",
      "您的问题：How Do you make spaghetti?\n",
      "> Running step 2fdaf3ea-942f-47a7-80bc-503b1dac96cf. Step input: How Do you make spaghetti?\n",
      "\u001b[1;3;38;5;200mThought: I can answer without using any more tools. I'll use English to provide a recipe for making spaghetti.\n",
      "Answer: To make spaghetti, follow these steps:\n",
      "\n",
      "1. **Ingredients:**\n",
      "   - 2 cups all-purpose flour\n",
      "   - 3 large eggs\n",
      "   - 1 teaspoon salt\n",
      "   - 4-5 quarts water\n",
      "\n",
      "2. **Preparing the Pasta Dough:**\n",
      "   - In a large mixing bowl, combine the flour and salt.\n",
      "   - Make a well in the center of the flour mixture.\n",
      "   - Crack the eggs into the well.\n",
      "   - Using a fork or your hands, gradually mix the flour and eggs together until a shaggy dough forms. (Don't overwork the dough.)\n",
      "\n",
      "3. **Kneading the Pasta Dough:**\n",
      "   - On a floured surface, gently roll out the dough to a thickness of about 1/8 inch.\n",
      "   - Use a pasta cutter or a sharp knife to cut the dough into thin, spaghetti-like strips.\n",
      "\n",
      "4. **Cooking the Spaghetti:**\n",
      "   - Bring the water to a rolling boil.\n",
      "   - Carefully add the spaghetti to the boiling water, stirring occasionally to prevent sticking.\n",
      "   - Cook the spaghetti according to package instructions, usually about 8-12 minutes for al dente texture.\n",
      "\n",
      "5. **Draining and Serving:**\n",
      "   - Once cooked, carefully use tongs or a slotted spoon to remove the spaghetti from the boiling water.\n",
      "   - Drain the spaghetti well in a colander.\n",
      "   - Serve the spaghetti hot with your favorite sauce, grated cheese, or other toppings.\n",
      "\n",
      "Enjoy your homemade spaghetti!\n",
      "\u001b[0m助手：To make spaghetti, follow these steps:\n",
      "\n",
      "1. **Ingredients:**\n",
      "   - 2 cups all-purpose flour\n",
      "   - 3 large eggs\n",
      "   - 1 teaspoon salt\n",
      "   - 4-5 quarts water\n",
      "\n",
      "2. **Preparing the Pasta Dough:**\n",
      "   - In a large mixing bowl, combine the flour and salt.\n",
      "   - Make a well in the center of the flour mixture.\n",
      "   - Crack the eggs into the well.\n",
      "   - Using a fork or your hands, gradually mix the flour and eggs together until a shaggy dough forms. (Don't overwork the dough.)\n",
      "\n",
      "3. **Kneading the Pasta Dough:**\n",
      "   - On a floured surface, gently roll out the dough to a thickness of about 1/8 inch.\n",
      "   - Use a pasta cutter or a sharp knife to cut the dough into thin, spaghetti-like strips.\n",
      "\n",
      "4. **Cooking the Spaghetti:**\n",
      "   - Bring the water to a rolling boil.\n",
      "   - Carefully add the spaghetti to the boiling water, stirring occasionally to prevent sticking.\n",
      "   - Cook the spaghetti according to package instructions, usually about 8-12 minutes for al dente texture.\n",
      "\n",
      "5. **Draining and Serving:**\n",
      "   - Once cooked, carefully use tongs or a slotted spoon to remove the spaghetti from the boiling water.\n",
      "   - Drain the spaghetti well in a colander.\n",
      "   - Serve the spaghetti hot with your favorite sauce, grated cheese, or other toppings.\n",
      "\n",
      "Enjoy your homemade spaghetti!\n",
      "\n",
      "您的问题：退出\n"
     ]
    }
   ],
   "source": [
    "from llama_index.core.memory import ChatMemoryBuffer\n",
    "\n",
    "# 带记忆的聊天引擎\n",
    "memory = ChatMemoryBuffer.from_defaults(token_limit=3900)\n",
    "chat_engine = index.as_chat_engine(\n",
    "    chat_mode=\"best\",\n",
    "    memory=memory,\n",
    "    verbose=True\n",
    ")\n",
    "\n",
    "def recipe_chat():\n",
    "    print(\"菜谱助手已就绪（输入'退出'结束）\")\n",
    "    while True:\n",
    "        query = input(\"\\n您的问题：\")\n",
    "        if query.lower() in ['退出', 'exit']:\n",
    "            break\n",
    "        response = chat_engine.chat(query)\n",
    "        print(f\"助手：{response}\")\n",
    "\n",
    "# 启动对话\n",
    "recipe_chat()"
   ]
  },
  {
   "cell_type": "code",
   "execution_count": 42,
   "id": "d4823b83",
   "metadata": {},
   "outputs": [
    {
     "name": "stdout",
     "output_type": "stream",
     "text": [
      "Kung Pao Chicken (匹配度: 0.65)\n",
      "Pasta (匹配度: 0.45)\n"
     ]
    }
   ],
   "source": [
    "from sklearn.metrics.pairwise import cosine_similarity\n",
    "\n",
    "def rerank_recipes(query, candidates, embed_model):\n",
    "    query_embed = embed_model._get_text_embedding(query)\n",
    "    doc_embeddings = [embed_model._get_text_embedding(node.text) for node in candidates]\n",
    "    scores = cosine_similarity([query_embed], doc_embeddings)[0]\n",
    "    return sorted(zip(candidates, scores), key=lambda x: x[1], reverse=True)\n",
    "\n",
    "# 使用示例\n",
    "query = \"chicken\"\n",
    "nodes = basic_engine.retrieve(query)\n",
    "ranked = rerank_recipes(query, nodes, Settings.embed_model)\n",
    "for node, score in ranked[:3]:\n",
    "    print(f\"{node.metadata['recipe_name']} (匹配度: {score:.2f})\")"
   ]
  },
  {
   "cell_type": "code",
   "execution_count": 43,
   "id": "1223a313",
   "metadata": {},
   "outputs": [
    {
     "name": "stderr",
     "output_type": "stream",
     "text": [
      "100%|████████████████████████████████████████████████████████████████████████████████████| 1/1 [00:10<00:00, 10.33s/it]\n",
      "100%|████████████████████████████████████████████████████████████████████████████████████| 1/1 [00:01<00:00,  1.81s/it]\n",
      "100%|████████████████████████████████████████████████████████████████████████████████████| 2/2 [00:07<00:00,  3.51s/it]"
     ]
    },
    {
     "name": "stdout",
     "output_type": "stream",
     "text": [
      "生成 2 个节点\n",
      "示例节点关键词: 1. Italian Pasta Recipe\n",
      "2. Easy Garlic Olive Oil Pasta\n",
      "3. Classic Italian Cook Time 20 mins\n",
      "4. Beginner-friendly Pasta Meal Idea\n",
      "5. Healthy Italian Dinner Option\n"
     ]
    },
    {
     "name": "stderr",
     "output_type": "stream",
     "text": [
      "\n"
     ]
    }
   ],
   "source": [
    "from llama_index.core.ingestion import IngestionPipeline\n",
    "from llama_index.core.node_parser import TokenTextSplitter\n",
    "from llama_index.core.extractors import TitleExtractor, KeywordExtractor\n",
    "\n",
    "# 1. 创建文本分割器\n",
    "text_splitter = TokenTextSplitter(\n",
    "    separator=\" \",\n",
    "    chunk_size=512,\n",
    "    chunk_overlap=20\n",
    ")\n",
    "\n",
    "# 2. 创建内容提取器\n",
    "title_extractor = TitleExtractor(nodes=5)\n",
    "keyword_extractor = KeywordExtractor(keywords=5)\n",
    "\n",
    "# 3. 正确初始化pipeline（注意不是直接调用）\n",
    "pipeline = IngestionPipeline(\n",
    "    transformations=[\n",
    "        text_splitter,\n",
    "        title_extractor,\n",
    "        keyword_extractor\n",
    "    ]\n",
    ")\n",
    "\n",
    "# 4. 运行pipeline（这才是正确的调用方式）\n",
    "nodes = pipeline.run(documents=documents)  # 注意使用run()方法\n",
    "\n",
    "# 查看处理结果\n",
    "print(f\"生成 {len(nodes)} 个节点\")\n",
    "print(\"示例节点关键词:\", nodes[0].metadata[\"excerpt_keywords\"])"
   ]
  },
  {
   "cell_type": "code",
   "execution_count": 44,
   "id": "c49aba2a",
   "metadata": {},
   "outputs": [
    {
     "name": "stderr",
     "output_type": "stream",
     "text": [
      "100%|████████████████████████████████████████████████████████████████████████████████████| 1/1 [00:01<00:00,  1.64s/it]\n",
      "100%|████████████████████████████████████████████████████████████████████████████████████| 1/1 [00:01<00:00,  1.70s/it]\n",
      "100%|████████████████████████████████████████████████████████████████████████████████████| 2/2 [00:07<00:00,  3.92s/it]"
     ]
    },
    {
     "name": "stdout",
     "output_type": "stream",
     "text": [
      "生成 2 个节点\n",
      "示例节点关键词: 1. Italian Pasta Recipe\n",
      "2. Easy Garlic Olive Oil Pasta\n",
      "3. Step-by-Step Italian Pasta Cooking\n",
      "4. Gluten-Free Italian Pasta Option\n",
      "5. Family-Friendly Italian Pasta Dinner\n"
     ]
    },
    {
     "name": "stderr",
     "output_type": "stream",
     "text": [
      "\n"
     ]
    }
   ],
   "source": [
    "from llama_index.core.ingestion import IngestionPipeline\n",
    "from llama_index.core.node_parser import TokenTextSplitter\n",
    "from llama_index.core.extractors import TitleExtractor, KeywordExtractor\n",
    "\n",
    "# 1. 创建文本分割器\n",
    "text_splitter = TokenTextSplitter(\n",
    "    separator=\" \",\n",
    "    chunk_size=512,\n",
    "    chunk_overlap=20\n",
    ")\n",
    "\n",
    "# 2. 创建内容提取器\n",
    "title_extractor = TitleExtractor(nodes=5)\n",
    "keyword_extractor = KeywordExtractor(keywords=5)\n",
    "\n",
    "# 3. 正确初始化pipeline（注意不是直接调用）\n",
    "pipeline = IngestionPipeline(\n",
    "    transformations=[\n",
    "        text_splitter,\n",
    "        title_extractor,\n",
    "        keyword_extractor\n",
    "    ]\n",
    ")\n",
    "\n",
    "# 4. 运行pipeline（这才是正确的调用方式）\n",
    "nodes = pipeline.run(documents=documents)  # 注意使用run()方法\n",
    "\n",
    "# 查看处理结果\n",
    "print(f\"生成 {len(nodes)} 个节点\")\n",
    "print(\"示例节点关键词:\", nodes[0].metadata[\"excerpt_keywords\"])"
   ]
  },
  {
   "cell_type": "code",
   "execution_count": 45,
   "id": "8d3629fc",
   "metadata": {},
   "outputs": [
    {
     "name": "stderr",
     "output_type": "stream",
     "text": [
      "100%|████████████████████████████████████████████████████████████████████████████████████| 1/1 [00:01<00:00,  1.61s/it]\n",
      "100%|████████████████████████████████████████████████████████████████████████████████████| 1/1 [00:01<00:00,  1.80s/it]\n",
      "100%|████████████████████████████████████████████████████████████████████████████████████| 2/2 [00:07<00:00,  3.88s/it]"
     ]
    },
    {
     "name": "stdout",
     "output_type": "stream",
     "text": [
      "生成 2 个节点\n",
      "示例节点关键词: 1. Italian Pasta Recipe\n",
      "2. Easy Garlic Olive Oil Pasta\n",
      "3. Simple Italian Dinner Option\n",
      "4. 20-Minute Pasta Cook Time\n",
      "5. Family-Friendly Italian Pasta Dish\n"
     ]
    },
    {
     "name": "stderr",
     "output_type": "stream",
     "text": [
      "\n"
     ]
    }
   ],
   "source": [
    "from llama_index.core.ingestion import IngestionPipeline\n",
    "from llama_index.core.node_parser import TokenTextSplitter\n",
    "from llama_index.core.extractors import TitleExtractor, KeywordExtractor\n",
    "from llama_index.core.query_engine import CustomQueryEngine\n",
    "from llama_index.core.retrievers import BaseRetriever\n",
    "from llama_index.core.response_synthesizers import BaseSynthesizer\n",
    "from llama_index.core import get_response_synthesizer\n",
    "# 1. 创建文本分割器\n",
    "text_splitter = TokenTextSplitter(\n",
    "    separator=\" \",\n",
    "    chunk_size=512,\n",
    "    chunk_overlap=20\n",
    ")\n",
    "\n",
    "# 2. 创建内容提取器\n",
    "title_extractor = TitleExtractor(nodes=5)\n",
    "keyword_extractor = KeywordExtractor(keywords=5)\n",
    "\n",
    "# 3. 正确初始化pipeline（注意不是直接调用）\n",
    "pipeline = IngestionPipeline(\n",
    "    transformations=[\n",
    "        text_splitter,\n",
    "        title_extractor,\n",
    "        keyword_extractor\n",
    "    ]\n",
    ")\n",
    "\n",
    "# 4. 运行pipeline（这才是正确的调用方式）\n",
    "nodes = pipeline.run(documents=documents)  # 注意使用run()方法\n",
    "\n",
    "# 查看处理结果\n",
    "print(f\"生成 {len(nodes)} 个节点\")\n",
    "print(\"示例节点关键词:\", nodes[0].metadata[\"excerpt_keywords\"])"
   ]
  },
  {
   "cell_type": "code",
   "execution_count": 57,
   "id": "6c9208fd",
   "metadata": {},
   "outputs": [
    {
     "name": "stderr",
     "output_type": "stream",
     "text": [
      "100%|████████████████████████████████████████████████████████████████████████████████████| 1/1 [00:01<00:00,  1.38s/it]\n",
      "100%|████████████████████████████████████████████████████████████████████████████████████| 1/1 [00:01<00:00,  1.50s/it]\n",
      "100%|████████████████████████████████████████████████████████████████████████████████████| 2/2 [00:11<00:00,  5.82s/it]\n"
     ]
    },
    {
     "name": "stdout",
     "output_type": "stream",
     "text": [
      "Empty Response\n",
      "宫保鸡丁虽然是川菜，而不是传统的西餐，但它属于中式菜肴，可以在某些西餐厅菜单上看到。所以如果你想在西餐厅尝试，可以选择一些改良版的中式菜品，但不一定会有正宗的宫保鸡丁供应。\n"
     ]
    }
   ],
   "source": [
    "# # Define transformations\n",
    "# text_splitter = SentenceSplitter(chunk_size=512, chunk_overlap=50)\n",
    "# title_extractor = TitleExtractor(nodes=5)\n",
    "# kw_extractor = KeywordExtractor(keywords=10)\n",
    "\n",
    "from llama_index.core.vector_stores import MetadataFilters\n",
    "\n",
    "kw_extractor=KeywordExtractor(keywords=10)\n",
    "# 将pipeline运用到document中，并向量化index\n",
    "index = VectorStoreIndex.from_documents(\n",
    "    documents, transformations=[text_splitter, title_extractor, kw_extractor]\n",
    ")\n",
    "\n",
    "# 然后实现query中的关键词提炼，并匹配文档中的关键词\n",
    "\n",
    "# 定义具有记忆的查询函数\n",
    "memory_buffer = ChatMemoryBuffer.from_defaults(token_limit=3900)\n",
    "class RAGQueryEngine(CustomQueryEngine):\n",
    "    \"\"\"RAG Query Engine\"\"\"\n",
    "    \n",
    "    retriever: BaseRetriever\n",
    "    response_synthesizer: BaseSynthesizer\n",
    "    memory: memory_buffer\n",
    "\n",
    "    def custom_query(self, query_str: str):\n",
    "        nodes = self.retriever.retrieve(query_str)\n",
    "        response_obj = self.response_synthesizer.synthesize(query_str, nodes)\n",
    "        return response_obj\n",
    "\n",
    "# 定义使用的模型\n",
    "mymodel = \"qwen:7b\"\n",
    "llm = Ollama(model=mymodel, request_timeout=600.0)\n",
    "def get_keywords_from_llama(query):\n",
    "    #设置系统prompt限制LLM按照要求输出\n",
    "    system_prompt = (\n",
    "        f\"你是一个专业的关键词提取助手。\\n\"\n",
    "        f\"请根据用户的以下问题或文本，提取出最多3个关键词!!!一定注意回答的每个关键词都不要超过3个中文字!!\\n\"\n",
    "        f\"如果你输出的答案中每个关键词超过3个字，请检查，然后再输出一个满足要求的结果给我\\n\"\n",
    "        f\"问题或文本: {query}\\n\"\n",
    "        f\"你的答案：关键词:\"\n",
    "    )\n",
    "    formatted_prompt = system_prompt.format(query=query)\n",
    "    response = \"\"\n",
    "    while not response.startswith(\"关键词: \"):\n",
    "        response = llm.complete(formatted_prompt).text\n",
    "        if not response.startswith(\"关键词: \"):\n",
    "            continue\n",
    "    #处理LLM输出关键词文本的结构，变成可处理的统一形式\n",
    "    keywords_part = response[len(\"关键词: \"):].strip().rstrip('。')\n",
    "    separators = ['、', '，', ',']\n",
    "    chosen_separator = None\n",
    "    for sep in separators:\n",
    "        if sep in keywords_part:\n",
    "            chosen_separator = sep\n",
    "            break\n",
    "    if chosen_separator is None:\n",
    "        keywords = [keywords_part] if keywords_part.strip() else []\n",
    "    else:\n",
    "        keywords = [keyword.strip() for keyword in keywords_part.split(chosen_separator) if keyword.strip()]\n",
    "    return keywords\n",
    "\n",
    "# 将输入的字符串按每两个中文字符分割成列表中的元素\n",
    "def split_into_pairs(text):\n",
    "    \"\"\"\n",
    "    将输入的字符串按每两个中文字符分割成列表中的元素。\n",
    "    如果最后一个分段不足两个字符，则保持原样。\n",
    "    \"\"\"\n",
    "    pairs = []\n",
    "    length = len(text)\n",
    "    for i in range(0, length, 2):\n",
    "        pairs.append(text[i:min(i+2, length)])\n",
    "    return pairs\n",
    "\n",
    "# 定义关键词提取函数\n",
    "def qs(query):\n",
    "    keywords = get_keywords_from_llama(query)\n",
    "    \n",
    "    # 将每个关键词进一步分割为每两个字符的片段\n",
    "    split_keywords = [split_into_pairs(keyword) for keyword in keywords]\n",
    "    \n",
    "    flattened_keywords = [item for sublist in split_keywords for item in sublist]\n",
    "    \n",
    "    return flattened_keywords\n",
    "\n",
    "# 关键词提取示例\n",
    "qs(\"我想吃西餐，可以吃宫保鸡丁吗？\")\n",
    "\n",
    "# 实现关键词匹配的查询\n",
    "def query_with_keywords_matched(query):\n",
    "    keywords = get_keywords_from_llama(query)\n",
    "    filters_list = [\n",
    "        MetadataFilter(key=\"excerpt_keywords\", value=keyword, operator=\"contains\")\n",
    "        for keyword in keywords\n",
    "    ]\n",
    "    filters = MetadataFilters(filters=filters_list)\n",
    "    retriever = index.as_retriever(\n",
    "        filters=filters,\n",
    "    )\n",
    "    synthesizer = get_response_synthesizer(response_mode=\"compact\")\n",
    "\n",
    "    query_engine = RAGQueryEngine(\n",
    "        retriever=retriever, response_synthesizer=synthesizer, memory=memory_buffer\n",
    "    )\n",
    "    response = query_engine.query(query)\n",
    "    print(response)\n",
    "\n",
    "# 关键词匹配查询示例\n",
    "query_with_keywords_matched(\"我想吃西餐，可以吃宫保鸡丁吗？\")\n",
    "\n",
    "# 对比不使用关键词匹配的查询（设置top_k）\n",
    "retriever = index.as_retriever(\n",
    "    top_k = 8,\n",
    ")\n",
    "\n",
    "synthesizer = get_response_synthesizer(response_mode=\"compact\")\n",
    "\n",
    "query_engine = RAGQueryEngine(\n",
    "    retriever=retriever, response_synthesizer=synthesizer, memory=memory_buffer\n",
    ")\n",
    "\n",
    "response1 = query_engine.query(f\"我想吃西餐，可以吃宫保鸡丁吗？\")\n",
    "print(str(response1))"
   ]
  },
  {
   "cell_type": "code",
   "execution_count": 58,
   "id": "47fba111",
   "metadata": {},
   "outputs": [
    {
     "name": "stdout",
     "output_type": "stream",
     "text": [
      "\n",
      "您的烹饪问题：During the preparation of a tender Kung Pao chicken, how do you handle the chicken properly to ensure the best taste?\n",
      "\n",
      "厨师助手：To prepare tender Kung Pao chicken, handling it properly is crucial for flavor and texture. Here are some steps to follow:\n",
      "\n",
      "1. **选购新鲜鸡肉**: Choose high-quality, boneless chicken breasts or thighs. Fresh meat will cook evenly and retain more moisture.\n",
      "\n",
      "2. **Cleaning and trimming**: Thoroughly wash the chicken under cold running water to remove any surface bacteria. Trim off any fat or visible skin.\n",
      "\n",
      "3. **Marinating (optional)**: If you prefer a more tender texture, marinate the chicken in a mixture of soy sauce, rice vinegar, sugar, garlic, and ginger for at least an hour, or even overnight in the refrigerator.\n",
      "\n",
      "4. **Cooking**: After marinating, either stir-fry the chicken in a wok with diced bell peppers, dried chilies, peanuts, and a generous amount of oil until it's crispy and golden brown, or bake it in a preheated oven at 200°C (400°F) for about 25-30 minutes until it reaches the desired level of tenderness.\n",
      "\n",
      "5. **Cooling and serving**: Once cooked, allow the chicken to cool slightly before slicing it into strips. Serve it immediately with steamed rice, if desired, or as a standalone dish.\n",
      "\n",
      "[建议提问]: \"在制作Kung Pao鸡肉的过程中，如何通过正确的切工和烹饪方法来保证鸡肉的嫩滑以及与辣椒、花生等食材的完美融合？\"\n",
      "\n",
      "您的烹饪问题：退出\n"
     ]
    }
   ],
   "source": [
    "def multi_turn_recipe_chat():\n",
    "    memory = ChatMemoryBuffer.from_defaults()\n",
    "    chat_engine = index.as_chat_engine(\n",
    "        chat_mode=\"condense_plus_context\",\n",
    "        memory=memory,\n",
    "        system_prompt=(\n",
    "            \"您是一位专业厨师助手，请根据菜谱数据库回答用户问题。\\n\"\n",
    "            \"回答时请：\\n\"\n",
    "            \"1. 明确说明菜谱名称\\n\"\n",
    "            \"2. 分步骤说明制作方法\\n\"\n",
    "            \"3. 给出烹饪小贴士\\n\"\n",
    "            \"4. 主动询问是否需要补充信息\"\n",
    "        )\n",
    "    )\n",
    "    \n",
    "    while True:\n",
    "        query = input(\"\\n您的烹饪问题：\")\n",
    "        if query.lower() == '退出':\n",
    "            break\n",
    "            \n",
    "        response = chat_engine.chat(query)\n",
    "        print(f\"\\n厨师助手：{response}\")\n",
    "        \n",
    "        # 自动生成后续问题\n",
    "        follow_up = chat_engine.chat(\n",
    "            \"基于刚才的回答，生成一个能帮助用户更好理解烹饪过程的专业问题\"\n",
    "        )\n",
    "        print(f\"\\n[建议提问]: {follow_up}\")\n",
    "\n",
    "# 启动对话\n",
    "multi_turn_recipe_chat()"
   ]
  },
  {
   "cell_type": "code",
   "execution_count": 59,
   "id": "f8c53fc3",
   "metadata": {},
   "outputs": [
    {
     "name": "stderr",
     "output_type": "stream",
     "text": [
      "100%|████████████████████████████████████████████████████████████████████████████████████| 1/1 [00:01<00:00,  1.49s/it]\n",
      "100%|████████████████████████████████████████████████████████████████████████████████████| 1/1 [00:01<00:00,  1.36s/it]\n",
      "100%|████████████████████████████████████████████████████████████████████████████████████| 2/2 [00:08<00:00,  4.32s/it]\n"
     ]
    }
   ],
   "source": [
    "from llama_index.core.node_parser import TokenTextSplitter\n",
    "from llama_index.core.extractors import TitleExtractor\n",
    "\n",
    "text_splitter = TokenTextSplitter(chunk_size=512, chunk_overlap=64)  # 文本分割器\n",
    "title_extractor = TitleExtractor()  # 标题提取器\n",
    "\n",
    "optimized_index = VectorStoreIndex.from_documents(\n",
    "    documents,\n",
    "    transformations=[text_splitter, title_extractor, kw_extractor]  # 三级处理流水线\n",
    ")\n",
    "\n",
    "from tenacity import retry, stop_after_attempt\n",
    "\n",
    "@retry(stop=stop_after_attempt(3))  # 失败时自动重试最多3次\n",
    "def robust_query(question):\n",
    "    return optimized_index.as_query_engine().query(question)"
   ]
  },
  {
   "cell_type": "code",
   "execution_count": 60,
   "id": "86450370",
   "metadata": {},
   "outputs": [],
   "source": [
    "def select_recipe_by_criterion(query_result, criterion_key, criterion_value):\n",
    "    for recipe in query_result.values():\n",
    "        if recipe.get(criterion_key) == criterion_value:\n",
    "            return recipe\n",
    "    return None"
   ]
  },
  {
   "cell_type": "code",
   "execution_count": 61,
   "id": "2214e336",
   "metadata": {},
   "outputs": [
    {
     "data": {
      "text/plain": [
       "{'97c7b000-33ea-4b82-a32e-43ec26b9e417': {'recipe_name': 'Kung Pao Chicken',\n",
       "  'cuisine': 'Chinese',\n",
       "  'cook_time': '30 mins',\n",
       "  'difficulty': 'Medium',\n",
       "  'document_title': '\"Delicious and Nutritious Complete Kung Pao Chicken Recipe with a Unique Nutty Twist\"',\n",
       "  'excerpt_keywords': '1. Kung Pao Chicken recipe\\n2. Chinese cuisine扭转会意的\\n3. 30分钟简易家庭版\\n4. 花椒与辣椒的独特融合\\n5. 鸡肉、花生和辣椒的三重奏\\n6. 简单几步教你做正宗\\n7. 健康营养，美味又快捷的家庭菜'},\n",
       " 'f82e7d4c-2e10-4141-8975-14a193dd2eec': {'recipe_name': 'Pasta',\n",
       "  'cuisine': 'Italian',\n",
       "  'cook_time': '20 mins',\n",
       "  'difficulty': 'Easy',\n",
       "  'document_title': '\"Easy Italian Pasta Recipe: Flavorful Garlic and Olive Oil Preparation\"',\n",
       "  'excerpt_keywords': 'Keywords: Italian Pasta Recipe, Easy Cooking, Garlic Flavor, Olive Oil Preparation, Pasta Ingredients, Cooking Steps.'}}"
      ]
     },
     "execution_count": 61,
     "metadata": {},
     "output_type": "execute_result"
    }
   ],
   "source": [
    "query_result = robust_query(\"推荐一个菜谱\")\n",
    "query_result.metadata"
   ]
  },
  {
   "cell_type": "code",
   "execution_count": 63,
   "id": "de0350a6",
   "metadata": {},
   "outputs": [
    {
     "name": "stdout",
     "output_type": "stream",
     "text": [
      "推荐菜谱：\"Delicious and Nutritious Complete Kung Pao Chicken Recipe with a Unique Nutty Twist\"\n",
      "难度：Medium\n",
      "关键步骤：\n",
      "1. Kung Pao Chicken recipe\n",
      "2. Chinese cuisine扭转会意的\n",
      "3. 30分钟简易家庭版\n",
      "4. 花椒与辣椒的独特融合\n",
      "5. 鸡肉、花生和辣椒的三重奏\n",
      "6. 简单几步教你做正宗\n",
      "7. 健康营养，美味又快捷的家庭菜\n"
     ]
    }
   ],
   "source": [
    "query_result = robust_query(\"推荐一个菜谱\")\n",
    "actual_result = query_result.metadata\n",
    "selected_recipe = select_recipe_by_criterion(actual_result, \"cuisine\", \"Chinese\")\n",
    "if selected_recipe:\n",
    "    keywords_lines = selected_recipe['excerpt_keywords'].split('\\n')\n",
    "    output = (\n",
    "        f\"推荐菜谱：{selected_recipe['document_title']}\\n\"\n",
    "        f\"难度：{selected_recipe.get('difficulty', '未知')}\\n\"\n",
    "        f\"关键步骤：\\n\" +\n",
    "        '\\n'.join(keywords_lines)  # 使用字符串连接而不是 f-string\n",
    "    )\n",
    "    print(output)\n",
    "else:\n",
    "    print(\"未找到符合条件的菜谱\")"
   ]
  },
  {
   "cell_type": "code",
   "execution_count": 64,
   "id": "1200f3d3",
   "metadata": {},
   "outputs": [
    {
     "data": {
      "text/plain": [
       "{'recipe_name': 'Kung Pao Chicken',\n",
       " 'cuisine': 'Chinese',\n",
       " 'cook_time': '30 mins',\n",
       " 'difficulty': 'Medium',\n",
       " 'document_title': '\"Delicious and Nutritious Complete Kung Pao Chicken Recipe with a Unique Nutty Twist\"',\n",
       " 'excerpt_keywords': '1. Kung Pao Chicken recipe\\n2. Chinese cuisine扭转会意的\\n3. 30分钟简易家庭版\\n4. 花椒与辣椒的独特融合\\n5. 鸡肉、花生和辣椒的三重奏\\n6. 简单几步教你做正宗\\n7. 健康营养，美味又快捷的家庭菜'}"
      ]
     },
     "execution_count": 64,
     "metadata": {},
     "output_type": "execute_result"
    }
   ],
   "source": [
    "selected_recipe"
   ]
  },
  {
   "cell_type": "code",
   "execution_count": null,
   "id": "ff0dde20",
   "metadata": {},
   "outputs": [],
   "source": []
  }
 ],
 "metadata": {
  "kernelspec": {
   "display_name": "Python 3 (ipykernel)",
   "language": "python",
   "name": "python3"
  },
  "language_info": {
   "codemirror_mode": {
    "name": "ipython",
    "version": 3
   },
   "file_extension": ".py",
   "mimetype": "text/x-python",
   "name": "python",
   "nbconvert_exporter": "python",
   "pygments_lexer": "ipython3",
   "version": "3.9.7"
  }
 },
 "nbformat": 4,
 "nbformat_minor": 5
}
